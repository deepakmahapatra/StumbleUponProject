{
 "cells": [
  {
   "cell_type": "code",
   "execution_count": 1,
   "metadata": {
    "collapsed": false
   },
   "outputs": [
    {
     "name": "stderr",
     "output_type": "stream",
     "text": [
      "/Users/deepakmahapatra/anaconda/lib/python2.7/site-packages/sklearn/cross_validation.py:44: DeprecationWarning: This module was deprecated in version 0.18 in favor of the model_selection module into which all the refactored classes and functions are moved. Also note that the interface of the new CV iterators are different from that of this module. This module will be removed in 0.20.\n",
      "  \"This module will be removed in 0.20.\", DeprecationWarning)\n",
      "/Users/deepakmahapatra/anaconda/lib/python2.7/site-packages/sklearn/grid_search.py:43: DeprecationWarning: This module was deprecated in version 0.18 in favor of the model_selection module into which all the refactored classes and functions are moved. This module will be removed in 0.20.\n",
      "  DeprecationWarning)\n"
     ]
    }
   ],
   "source": [
    "import pandas as pd\n",
    "import numpy as np\n",
    "from matplotlib import pyplot as plt\n",
    "import sklearn\n",
    "%matplotlib inline\n",
    "import os\n",
    "import xgboost as xgb\n",
    "import seaborn\n",
    "from sklearn.grid_search import GridSearchCV"
   ]
  },
  {
   "cell_type": "code",
   "execution_count": 2,
   "metadata": {
    "collapsed": true
   },
   "outputs": [],
   "source": [
    "train=pd.read_csv(\"/Users/deepakmahapatra/Desktop/WebsiteData/train.tsv\",sep=\"\\t\")\n",
    "test=pd.read_csv(\"/Users/deepakmahapatra/Desktop/WebsiteData/test.tsv\",sep=\"\\t\")"
   ]
  },
  {
   "cell_type": "code",
   "execution_count": 3,
   "metadata": {
    "collapsed": false
   },
   "outputs": [],
   "source": [
    "#train.label.sum()"
   ]
  },
  {
   "cell_type": "code",
   "execution_count": 4,
   "metadata": {
    "collapsed": false
   },
   "outputs": [],
   "source": [
    "#train.boilerplate=train.boilerplate.to_string()"
   ]
  },
  {
   "cell_type": "code",
   "execution_count": 69,
   "metadata": {
    "collapsed": false
   },
   "outputs": [
    {
     "data": {
      "text/plain": [
       "(7395, 28)"
      ]
     },
     "execution_count": 69,
     "metadata": {},
     "output_type": "execute_result"
    }
   ],
   "source": [
    "train.shape"
   ]
  },
  {
   "cell_type": "markdown",
   "metadata": {
    "collapsed": false
   },
   "source": [
    "# Before running this run the K means clustering model at the bottom"
   ]
  },
  {
   "cell_type": "code",
   "execution_count": 53,
   "metadata": {
    "collapsed": false
   },
   "outputs": [],
   "source": [
    "train.alchemy_category.fillna(value=\"unknown\", inplace=True)\n",
    "train.alchemy_category.replace(to_replace=\"?\", value=\"unknown\", inplace=True)"
   ]
  },
  {
   "cell_type": "code",
   "execution_count": 54,
   "metadata": {
    "collapsed": true
   },
   "outputs": [],
   "source": [
    "train.alchemy_category_score.fillna(value=0,inplace=True)\n",
    "train.alchemy_category_score.replace(to_replace=\"?\", value=0, inplace=True)"
   ]
  },
  {
   "cell_type": "code",
   "execution_count": 55,
   "metadata": {
    "collapsed": false,
    "scrolled": true
   },
   "outputs": [],
   "source": [
    "train.is_news.replace(to_replace=\"?\", value=0, inplace=True)"
   ]
  },
  {
   "cell_type": "code",
   "execution_count": 56,
   "metadata": {
    "collapsed": true
   },
   "outputs": [],
   "source": [
    "train.news_front_page.replace(to_replace=\"?\", value=0, inplace=True)"
   ]
  },
  {
   "cell_type": "code",
   "execution_count": 57,
   "metadata": {
    "collapsed": false
   },
   "outputs": [
    {
     "name": "stderr",
     "output_type": "stream",
     "text": [
      "/Users/deepakmahapatra/anaconda/lib/python2.7/site-packages/ipykernel/__main__.py:1: FutureWarning: convert_objects is deprecated.  Use the data-type specific converters pd.to_datetime, pd.to_timedelta and pd.to_numeric.\n",
      "  if __name__ == '__main__':\n",
      "/Users/deepakmahapatra/anaconda/lib/python2.7/site-packages/ipykernel/__main__.py:2: FutureWarning: convert_objects is deprecated.  Use the data-type specific converters pd.to_datetime, pd.to_timedelta and pd.to_numeric.\n",
      "  from ipykernel import kernelapp as app\n",
      "/Users/deepakmahapatra/anaconda/lib/python2.7/site-packages/ipykernel/__main__.py:3: FutureWarning: convert_objects is deprecated.  Use the data-type specific converters pd.to_datetime, pd.to_timedelta and pd.to_numeric.\n",
      "  app.launch_new_instance()\n"
     ]
    }
   ],
   "source": [
    "train.alchemy_category_score=train.alchemy_category_score.convert_objects(convert_numeric=True)\n",
    "train.is_news=train.is_news.convert_objects(convert_numeric=True)\n",
    "train.news_front_page=train.news_front_page.convert_objects(convert_numeric=True)\n",
    "train_dummies= pd.get_dummies(train, prefix='Category_', columns=['alchemy_category'])"
   ]
  },
  {
   "cell_type": "markdown",
   "metadata": {},
   "source": [
    "# The code below should only be used to run the xgboost used here"
   ]
  },
  {
   "cell_type": "code",
   "execution_count": 85,
   "metadata": {
    "collapsed": false
   },
   "outputs": [
    {
     "name": "stdout",
     "output_type": "stream",
     "text": [
      "(5177, 40)\n",
      "(2218, 40)\n"
     ]
    }
   ],
   "source": [
    "from sklearn.cross_validation import train_test_split\n",
    "\n",
    "# Generate the training set.  Set random_state to be able to replicate results.\n",
    "train1 = train_dummies.sample(frac=0.7, random_state=1)\n",
    "# Select anything not in the training set and put it in the testing set.\n",
    "test1 = train_dummies.loc[~train_dummies.index.isin(train1.index)]\n",
    "# Print the shapes of both sets.\n",
    "print(train1.shape)\n",
    "print(test1.shape)"
   ]
  },
  {
   "cell_type": "code",
   "execution_count": 86,
   "metadata": {
    "collapsed": true
   },
   "outputs": [],
   "source": [
    "y=train[\"label\"]"
   ]
  },
  {
   "cell_type": "code",
   "execution_count": 87,
   "metadata": {
    "collapsed": false
   },
   "outputs": [
    {
     "data": {
      "text/plain": [
       "Index([u'url', u'urlid', u'boilerplate', u'alchemy_category_score',\n",
       "       u'avglinksize', u'commonlinkratio_1', u'commonlinkratio_2',\n",
       "       u'commonlinkratio_3', u'commonlinkratio_4', u'compression_ratio',\n",
       "       u'embed_ratio', u'framebased', u'frameTagRatio', u'hasDomainLink',\n",
       "       u'html_ratio', u'image_ratio', u'is_news', u'lengthyLinkDomain',\n",
       "       u'linkwordscore', u'news_front_page', u'non_markup_alphanum_characters',\n",
       "       u'numberOfLinks', u'numwords_in_url', u'parametrizedLinkRatio',\n",
       "       u'spelling_errors_ratio', u'label', u'K_means_clusters',\n",
       "       u'Category__arts_entertainment', u'Category__business',\n",
       "       u'Category__computer_internet', u'Category__culture_politics',\n",
       "       u'Category__gaming', u'Category__health', u'Category__law_crime',\n",
       "       u'Category__recreation', u'Category__religion',\n",
       "       u'Category__science_technology', u'Category__sports',\n",
       "       u'Category__unknown', u'Category__weather'],\n",
       "      dtype='object')"
      ]
     },
     "execution_count": 87,
     "metadata": {},
     "output_type": "execute_result"
    }
   ],
   "source": [
    "test1.columns"
   ]
  },
  {
   "cell_type": "code",
   "execution_count": 90,
   "metadata": {
    "collapsed": false,
    "scrolled": true
   },
   "outputs": [],
   "source": [
    "label_train=train1.pop(\"label\")\n",
    "label_test=test1.pop(\"label\")\n",
    "#print label_train.shape\n",
    "#print label_test.shape"
   ]
  },
  {
   "cell_type": "code",
   "execution_count": 92,
   "metadata": {
    "collapsed": false
   },
   "outputs": [],
   "source": [
    "#test1.drop(\"label\",inplace=True,axis=1)\n",
    "##train1.drop(\"label\",inplace=True,axis=1)"
   ]
  },
  {
   "cell_type": "markdown",
   "metadata": {
    "collapsed": true
   },
   "source": [
    "# Xg Boost model with K means Clustering clusters"
   ]
  },
  {
   "cell_type": "code",
   "execution_count": 93,
   "metadata": {
    "collapsed": false
   },
   "outputs": [],
   "source": [
    "#train_dummies.dtypes\n",
    "train_dummies.drop([\"url\",\"urlid\",\"boilerplate\"],inplace=True,axis=1)"
   ]
  },
  {
   "cell_type": "code",
   "execution_count": 95,
   "metadata": {
    "collapsed": false
   },
   "outputs": [
    {
     "name": "stderr",
     "output_type": "stream",
     "text": [
      "/Users/deepakmahapatra/anaconda/lib/python2.7/site-packages/ipykernel/__main__.py:2: SettingWithCopyWarning: \n",
      "A value is trying to be set on a copy of a slice from a DataFrame\n",
      "\n",
      "See the caveats in the documentation: http://pandas.pydata.org/pandas-docs/stable/indexing.html#indexing-view-versus-copy\n",
      "  from ipykernel import kernelapp as app\n"
     ]
    }
   ],
   "source": [
    "train1.drop([\"url\",\"urlid\",\"boilerplate\"],inplace=True,axis=1)\n",
    "test1.drop([\"url\",\"urlid\",\"boilerplate\"],inplace=True,axis=1)"
   ]
  },
  {
   "cell_type": "code",
   "execution_count": 96,
   "metadata": {
    "collapsed": false
   },
   "outputs": [
    {
     "name": "stdout",
     "output_type": "stream",
     "text": [
      "(5177, 36)\n"
     ]
    },
    {
     "data": {
      "text/plain": [
       "(2218, 36)"
      ]
     },
     "execution_count": 96,
     "metadata": {},
     "output_type": "execute_result"
    }
   ],
   "source": [
    "print train1.shape\n",
    "test1.shape"
   ]
  },
  {
   "cell_type": "code",
   "execution_count": 97,
   "metadata": {
    "collapsed": false
   },
   "outputs": [],
   "source": [
    "dtrain = xgb.DMatrix( train1, label=label_train)\n",
    "dtest= xgb.DMatrix(test1,label=label_test)"
   ]
  },
  {
   "cell_type": "code",
   "execution_count": 98,
   "metadata": {
    "collapsed": false
   },
   "outputs": [
    {
     "data": {
      "text/html": [
       "<div>\n",
       "<table border=\"1\" class=\"dataframe\">\n",
       "  <thead>\n",
       "    <tr style=\"text-align: right;\">\n",
       "      <th></th>\n",
       "      <th>alchemy_category_score</th>\n",
       "      <th>avglinksize</th>\n",
       "      <th>commonlinkratio_1</th>\n",
       "      <th>commonlinkratio_2</th>\n",
       "      <th>commonlinkratio_3</th>\n",
       "      <th>commonlinkratio_4</th>\n",
       "      <th>compression_ratio</th>\n",
       "      <th>embed_ratio</th>\n",
       "      <th>framebased</th>\n",
       "      <th>frameTagRatio</th>\n",
       "      <th>...</th>\n",
       "      <th>Category__culture_politics</th>\n",
       "      <th>Category__gaming</th>\n",
       "      <th>Category__health</th>\n",
       "      <th>Category__law_crime</th>\n",
       "      <th>Category__recreation</th>\n",
       "      <th>Category__religion</th>\n",
       "      <th>Category__science_technology</th>\n",
       "      <th>Category__sports</th>\n",
       "      <th>Category__unknown</th>\n",
       "      <th>Category__weather</th>\n",
       "    </tr>\n",
       "  </thead>\n",
       "  <tbody>\n",
       "    <tr>\n",
       "      <th>573</th>\n",
       "      <td>0.884752</td>\n",
       "      <td>2.215827</td>\n",
       "      <td>0.590278</td>\n",
       "      <td>0.229167</td>\n",
       "      <td>0.131944</td>\n",
       "      <td>0.076389</td>\n",
       "      <td>0.457006</td>\n",
       "      <td>0</td>\n",
       "      <td>0</td>\n",
       "      <td>0.018711</td>\n",
       "      <td>...</td>\n",
       "      <td>0</td>\n",
       "      <td>0</td>\n",
       "      <td>0</td>\n",
       "      <td>0</td>\n",
       "      <td>0</td>\n",
       "      <td>0</td>\n",
       "      <td>0</td>\n",
       "      <td>0</td>\n",
       "      <td>0</td>\n",
       "      <td>0</td>\n",
       "    </tr>\n",
       "    <tr>\n",
       "      <th>4146</th>\n",
       "      <td>0.000000</td>\n",
       "      <td>2.085366</td>\n",
       "      <td>0.516484</td>\n",
       "      <td>0.241758</td>\n",
       "      <td>0.131868</td>\n",
       "      <td>0.076923</td>\n",
       "      <td>21.000000</td>\n",
       "      <td>-1</td>\n",
       "      <td>0</td>\n",
       "      <td>0.081633</td>\n",
       "      <td>...</td>\n",
       "      <td>0</td>\n",
       "      <td>0</td>\n",
       "      <td>0</td>\n",
       "      <td>0</td>\n",
       "      <td>0</td>\n",
       "      <td>0</td>\n",
       "      <td>0</td>\n",
       "      <td>0</td>\n",
       "      <td>1</td>\n",
       "      <td>0</td>\n",
       "    </tr>\n",
       "  </tbody>\n",
       "</table>\n",
       "<p>2 rows × 36 columns</p>\n",
       "</div>"
      ],
      "text/plain": [
       "      alchemy_category_score  avglinksize  commonlinkratio_1  \\\n",
       "573                 0.884752     2.215827           0.590278   \n",
       "4146                0.000000     2.085366           0.516484   \n",
       "\n",
       "      commonlinkratio_2  commonlinkratio_3  commonlinkratio_4  \\\n",
       "573            0.229167           0.131944           0.076389   \n",
       "4146           0.241758           0.131868           0.076923   \n",
       "\n",
       "      compression_ratio  embed_ratio  framebased  frameTagRatio  \\\n",
       "573            0.457006            0           0       0.018711   \n",
       "4146          21.000000           -1           0       0.081633   \n",
       "\n",
       "            ...          Category__culture_politics  Category__gaming  \\\n",
       "573         ...                                   0                 0   \n",
       "4146        ...                                   0                 0   \n",
       "\n",
       "      Category__health  Category__law_crime  Category__recreation  \\\n",
       "573                  0                    0                     0   \n",
       "4146                 0                    0                     0   \n",
       "\n",
       "      Category__religion  Category__science_technology  Category__sports  \\\n",
       "573                    0                             0                 0   \n",
       "4146                   0                             0                 0   \n",
       "\n",
       "      Category__unknown  Category__weather  \n",
       "573                   0                  0  \n",
       "4146                  1                  0  \n",
       "\n",
       "[2 rows x 36 columns]"
      ]
     },
     "execution_count": 98,
     "metadata": {},
     "output_type": "execute_result"
    }
   ],
   "source": [
    "train1.head(2)"
   ]
  },
  {
   "cell_type": "code",
   "execution_count": 99,
   "metadata": {
    "collapsed": false,
    "scrolled": true
   },
   "outputs": [],
   "source": [
    "param = {'bst:max_depth':10, 'bst:eta':0.5, 'silent':1, 'objective':'binary:logistic' }\n",
    "param['nthread'] = 4\n",
    "param['eval_metric'] = 'auc'"
   ]
  },
  {
   "cell_type": "code",
   "execution_count": 100,
   "metadata": {
    "collapsed": true
   },
   "outputs": [],
   "source": [
    "evallist  = [(dtest,'eval'), (dtrain,'train')]\n"
   ]
  },
  {
   "cell_type": "code",
   "execution_count": 101,
   "metadata": {
    "collapsed": false
   },
   "outputs": [
    {
     "name": "stdout",
     "output_type": "stream",
     "text": [
      "[0]\teval-auc:0.788498\ttrain-auc:0.840769\n",
      "[1]\teval-auc:0.804035\ttrain-auc:0.855979\n",
      "[2]\teval-auc:0.806881\ttrain-auc:0.870644\n",
      "[3]\teval-auc:0.810353\ttrain-auc:0.879611\n",
      "[4]\teval-auc:0.812231\ttrain-auc:0.886589\n",
      "[5]\teval-auc:0.810620\ttrain-auc:0.894919\n",
      "[6]\teval-auc:0.813455\ttrain-auc:0.896531\n",
      "[7]\teval-auc:0.817042\ttrain-auc:0.901871\n",
      "[8]\teval-auc:0.816804\ttrain-auc:0.906122\n",
      "[9]\teval-auc:0.816606\ttrain-auc:0.914339\n"
     ]
    }
   ],
   "source": [
    "num_round = 10\n",
    "bst = xgb.train( param, dtrain, num_round, evallist )"
   ]
  },
  {
   "cell_type": "code",
   "execution_count": 102,
   "metadata": {
    "collapsed": false
   },
   "outputs": [],
   "source": [
    "ypred = bst.predict(dtest)"
   ]
  },
  {
   "cell_type": "code",
   "execution_count": null,
   "metadata": {
    "collapsed": false,
    "scrolled": true
   },
   "outputs": [],
   "source": []
  },
  {
   "cell_type": "code",
   "execution_count": 103,
   "metadata": {
    "collapsed": false
   },
   "outputs": [
    {
     "data": {
      "text/plain": [
       "<matplotlib.axes._subplots.AxesSubplot at 0x1209fe8d0>"
      ]
     },
     "execution_count": 103,
     "metadata": {},
     "output_type": "execute_result"
    },
    {
     "data": {
      "image/png": "[encoded data removed]",
      "text/plain": [
       "<matplotlib.figure.Figure at 0x1209a0390>"
      ]
     },
     "metadata": {},
     "output_type": "display_data"
    }
   ],
   "source": [
    "xgb.plot_importance(bst)"
   ]
  },
  {
   "cell_type": "code",
   "execution_count": 104,
   "metadata": {
    "collapsed": true
   },
   "outputs": [],
   "source": [
    "predictions = [round(value) for value in ypred]"
   ]
  },
  {
   "cell_type": "code",
   "execution_count": 105,
   "metadata": {
    "collapsed": false
   },
   "outputs": [
    {
     "data": {
      "text/plain": [
       "0.75293056807935077"
      ]
     },
     "execution_count": 105,
     "metadata": {},
     "output_type": "execute_result"
    }
   ],
   "source": [
    "sklearn.metrics.accuracy_score(label_test, predictions, normalize=True, sample_weight=None)"
   ]
  },
  {
   "cell_type": "code",
   "execution_count": 106,
   "metadata": {
    "collapsed": true
   },
   "outputs": [],
   "source": [
    "cm=sklearn.metrics.confusion_matrix(label_test, predictions)"
   ]
  },
  {
   "cell_type": "code",
   "execution_count": 167,
   "metadata": {
    "collapsed": false
   },
   "outputs": [],
   "source": [
    "from sklearn import metrics\n",
    "fpr, tpr, thresholds = sklearn.metrics.roc_curve(label_test, predictions, pos_label=1)\n",
    "auc = sklearn.metrics.auc(fpr,tpr)\n",
    "\n",
    "fpr_xg, tpr_xg, _ = sklearn.metrics.roc_curve(label_test, predictions)"
   ]
  },
  {
   "cell_type": "code",
   "execution_count": 108,
   "metadata": {
    "collapsed": false
   },
   "outputs": [
    {
     "data": {
      "text/plain": [
       "0.75418634607127533"
      ]
     },
     "execution_count": 108,
     "metadata": {},
     "output_type": "execute_result"
    }
   ],
   "source": [
    "auc"
   ]
  },
  {
   "cell_type": "code",
   "execution_count": 109,
   "metadata": {
    "collapsed": true
   },
   "outputs": [],
   "source": [
    "TP = cm[0][0]\n",
    "FP = cm[0][1]\n",
    "FN = cm[1][0]\n",
    "TN = cm[1][1]"
   ]
  },
  {
   "cell_type": "code",
   "execution_count": 110,
   "metadata": {
    "collapsed": false
   },
   "outputs": [
    {
     "name": "stdout",
     "output_type": "stream",
     "text": [
      "944 152 396 726\n"
     ]
    }
   ],
   "source": [
    "print TP,FP,FN,TN"
   ]
  },
  {
   "cell_type": "code",
   "execution_count": 111,
   "metadata": {
    "collapsed": false
   },
   "outputs": [
    {
     "data": {
      "text/plain": [
       "878.0"
      ]
     },
     "execution_count": 111,
     "metadata": {},
     "output_type": "execute_result"
    }
   ],
   "source": [
    "sum(predictions)"
   ]
  },
  {
   "cell_type": "code",
   "execution_count": 112,
   "metadata": {
    "collapsed": false
   },
   "outputs": [
    {
     "name": "stdout",
     "output_type": "stream",
     "text": [
      "0.861313868613\n"
     ]
    }
   ],
   "source": [
    "precision=(float(TP)/float(TP+FP))\n",
    "print precision"
   ]
  },
  {
   "cell_type": "code",
   "execution_count": 113,
   "metadata": {
    "collapsed": true
   },
   "outputs": [],
   "source": [
    "Recall=(float(TP)/float(TP+FN))"
   ]
  },
  {
   "cell_type": "code",
   "execution_count": 114,
   "metadata": {
    "collapsed": false
   },
   "outputs": [
    {
     "data": {
      "text/plain": [
       "0.7044776119402985"
      ]
     },
     "execution_count": 114,
     "metadata": {},
     "output_type": "execute_result"
    }
   ],
   "source": [
    "Recall"
   ]
  },
  {
   "cell_type": "code",
   "execution_count": 115,
   "metadata": {
    "collapsed": true
   },
   "outputs": [],
   "source": [
    "Accuracy=(float(TP+TN)/float(TP+FP+TN+FN))"
   ]
  },
  {
   "cell_type": "code",
   "execution_count": 116,
   "metadata": {
    "collapsed": false
   },
   "outputs": [
    {
     "data": {
      "text/plain": [
       "0.7529305680793508"
      ]
     },
     "execution_count": 116,
     "metadata": {},
     "output_type": "execute_result"
    }
   ],
   "source": [
    "Accuracy"
   ]
  },
  {
   "cell_type": "code",
   "execution_count": null,
   "metadata": {
    "collapsed": false
   },
   "outputs": [],
   "source": []
  },
  {
   "cell_type": "code",
   "execution_count": null,
   "metadata": {
    "collapsed": true
   },
   "outputs": [],
   "source": []
  },
  {
   "cell_type": "code",
   "execution_count": null,
   "metadata": {
    "collapsed": true
   },
   "outputs": [],
   "source": [
    "corr=train_dummies.corr()"
   ]
  },
  {
   "cell_type": "code",
   "execution_count": null,
   "metadata": {
    "collapsed": false
   },
   "outputs": [],
   "source": [
    "f, ax = plt.subplots(figsize=(11, 9))\n",
    "mask = np.zeros_like(corr, dtype=np.bool)\n",
    "mask[np.triu_indices_from(mask)] = True\n",
    "# Generate a custom diverging colormap\n",
    "cmap = seaborn.diverging_palette(220, 10, as_cmap=True)\n",
    "\n",
    "# Draw the heatmap with the mask and correct aspect ratio\n",
    "seaborn.heatmap(corr, mask=mask, cmap=cmap, vmax=.3,\n",
    "            square=True, xticklabels=5, yticklabels=5,\n",
    "            linewidths=.5, cbar_kws={\"shrink\": .5}, ax=ax)"
   ]
  },
  {
   "cell_type": "markdown",
   "metadata": {},
   "source": [
    "# Try the Neural Network Method"
   ]
  },
  {
   "cell_type": "code",
   "execution_count": null,
   "metadata": {
    "collapsed": true
   },
   "outputs": [],
   "source": [
    "from sklearn.neural_network import MLPClassifier"
   ]
  },
  {
   "cell_type": "code",
   "execution_count": null,
   "metadata": {
    "collapsed": true
   },
   "outputs": [],
   "source": [
    "clf = MLPClassifier(solver='lbfgs', alpha=1e-5,hidden_layer_sizes=(5, 2), random_state=1)"
   ]
  },
  {
   "cell_type": "code",
   "execution_count": null,
   "metadata": {
    "collapsed": false
   },
   "outputs": [],
   "source": [
    "clf.fit(train1,label_train )"
   ]
  },
  {
   "cell_type": "code",
   "execution_count": null,
   "metadata": {
    "collapsed": true
   },
   "outputs": [],
   "source": [
    "Neural_pred=clf.predict(test1)"
   ]
  },
  {
   "cell_type": "code",
   "execution_count": null,
   "metadata": {
    "collapsed": false
   },
   "outputs": [],
   "source": [
    "print sklearn.metrics.accuracy_score(label_test, Neural_pred, normalize=True, sample_weight=None)\n",
    "cm_Neural=sklearn.metrics.confusion_matrix(label_test, Neural_pred)\n",
    "TP_Neural = cm_Neural[0][0]\n",
    "FP_Neural = cm_Neural[0][1]\n",
    "FN_Neural = cm_Neural[1][0]\n",
    "TN_Neural = cm_Neural[1][1]\n",
    "print TP_Neural,FP_Neural,FN_Neural,TN_Neural\n",
    "precision_Neural=(float(TP_Neural)/float(TP_Neural+FP_Neural))\n",
    "print precision_Neural\n",
    "Recall_Neural=(float(TP_Neural)/float(TP_Neural+FN_Neural))"
   ]
  },
  {
   "cell_type": "markdown",
   "metadata": {},
   "source": [
    "# TFIDF vectorizer"
   ]
  },
  {
   "cell_type": "code",
   "execution_count": 38,
   "metadata": {
    "collapsed": true
   },
   "outputs": [],
   "source": [
    "text_docs = train.boilerplate"
   ]
  },
  {
   "cell_type": "code",
   "execution_count": 39,
   "metadata": {
    "collapsed": true
   },
   "outputs": [],
   "source": [
    "import nltk\n",
    "from nltk.corpus import stopwords # stop words\n",
    "from nltk.tokenize import wordpunct_tokenize,word_tokenize # splits sentences into words\n",
    "from sklearn.feature_extraction.text import CountVectorizer,TfidfVectorizer\n",
    "from nltk.stem.lancaster import LancasterStemmer # extract the roots of words \n",
    "from nltk.stem.porter import PorterStemmer # extract the roots of words \n",
    "import re\n",
    "import lda\n",
    "from copy import deepcopy\n",
    "\n"
   ]
  },
  {
   "cell_type": "code",
   "execution_count": 40,
   "metadata": {
    "collapsed": true
   },
   "outputs": [],
   "source": [
    "from nltk.stem.snowball import SnowballStemmer\n",
    "stemmer = SnowballStemmer(\"english\")"
   ]
  },
  {
   "cell_type": "code",
   "execution_count": 41,
   "metadata": {
    "collapsed": true
   },
   "outputs": [],
   "source": [
    "def tokenize_and_stem(text):\n",
    "    # first tokenize by sentence, then by word to ensure that punctuation is caught as it's own token\n",
    "    tokens = [word for sent in nltk.sent_tokenize(text) for word in nltk.word_tokenize(sent)]\n",
    "    filtered_tokens = []\n",
    "    # filter out any tokens not containing letters (e.g., numeric tokens, raw punctuation)\n",
    "    for token in tokens:\n",
    "        if re.search('[a-zA-Z]', token):\n",
    "            filtered_tokens.append(token)\n",
    "    stems = [stemmer.stem(t) for t in filtered_tokens]\n",
    "    return stems"
   ]
  },
  {
   "cell_type": "code",
   "execution_count": 42,
   "metadata": {
    "collapsed": false,
    "scrolled": false
   },
   "outputs": [
    {
     "name": "stdout",
     "output_type": "stream",
     "text": [
      "CPU times: user 2min 32s, sys: 2.23 s, total: 2min 34s\n",
      "Wall time: 2min 37s\n"
     ]
    }
   ],
   "source": [
    "from sklearn.feature_extraction.text import TfidfVectorizer\n",
    "\n",
    "#define vectorizer parameters\n",
    "tfidf_vectorizer = TfidfVectorizer(max_df=0.9, max_features=200000,\n",
    "                                 min_df=0.2, stop_words='english',\n",
    "                                 use_idf=True, tokenizer=tokenize_and_stem, ngram_range=(1,3))\n",
    "\n",
    "%time tfidf_matrix = tfidf_vectorizer.fit_transform(text_docs) #fit the vectorizer to synopses\n"
   ]
  },
  {
   "cell_type": "markdown",
   "metadata": {},
   "source": [
    "# K means clustering on the tfidf matrix"
   ]
  },
  {
   "cell_type": "code",
   "execution_count": 43,
   "metadata": {
    "collapsed": false,
    "scrolled": true
   },
   "outputs": [],
   "source": [
    "\n",
    "#print(tfidf_matrix)"
   ]
  },
  {
   "cell_type": "code",
   "execution_count": 11,
   "metadata": {
    "collapsed": false
   },
   "outputs": [
    {
     "name": "stdout",
     "output_type": "stream",
     "text": [
      "CPU times: user 6.5 s, sys: 26.2 ms, total: 6.53 s\n",
      "Wall time: 6.56 s\n"
     ]
    }
   ],
   "source": [
    "from sklearn.cluster import KMeans\n",
    "\n",
    "num_clusters = 2\n",
    "\n",
    "km = KMeans(n_clusters=num_clusters)\n",
    "\n",
    "%time km.fit(tfidf_matrix)\n",
    "\n",
    "clusters = km.labels_.tolist()"
   ]
  },
  {
   "cell_type": "code",
   "execution_count": 12,
   "metadata": {
    "collapsed": true
   },
   "outputs": [],
   "source": [
    "from sklearn.externals import joblib\n",
    "\n",
    "#uncomment the below to save your model \n",
    "#since I've already run my model I am loading from the pickle\n",
    "\n",
    "joblib.dump(km,  'doc_cluster.pkl')\n",
    "\n",
    "km = joblib.load('doc_cluster.pkl')\n",
    "clusters = km.labels_.tolist()"
   ]
  },
  {
   "cell_type": "code",
   "execution_count": 14,
   "metadata": {
    "collapsed": true
   },
   "outputs": [],
   "source": [
    "train[\"K_means_clusters\"]=clusters"
   ]
  },
  {
   "cell_type": "code",
   "execution_count": 15,
   "metadata": {
    "collapsed": false
   },
   "outputs": [
    {
     "data": {
      "text/plain": [
       "(7395, 28)"
      ]
     },
     "execution_count": 15,
     "metadata": {},
     "output_type": "execute_result"
    }
   ],
   "source": [
    "train.shape"
   ]
  },
  {
   "cell_type": "markdown",
   "metadata": {},
   "source": [
    "# LDA not useful in our case and have not been studied"
   ]
  },
  {
   "cell_type": "code",
   "execution_count": 28,
   "metadata": {
    "collapsed": true
   },
   "outputs": [],
   "source": [
    "from sklearn.feature_extraction.text import TfidfVectorizer, CountVectorizer\n",
    "from sklearn.decomposition import NMF, LatentDirichletAllocation\n",
    "from sklearn.datasets import fetch_20newsgroups"
   ]
  },
  {
   "cell_type": "code",
   "execution_count": null,
   "metadata": {
    "collapsed": true
   },
   "outputs": [],
   "source": []
  },
  {
   "cell_type": "code",
   "execution_count": 33,
   "metadata": {
    "collapsed": false
   },
   "outputs": [],
   "source": [
    "\n",
    "n_features = 1000\n",
    "n_topics = 2\n",
    "n_top_words = 20\n",
    "tf_vectorizer = CountVectorizer(max_df=0.95, min_df=2,max_features=n_features,stop_words='english')\n",
    "tf = tf_vectorizer.fit_transform(KMeans_docs)"
   ]
  },
  {
   "cell_type": "code",
   "execution_count": 34,
   "metadata": {
    "collapsed": true
   },
   "outputs": [],
   "source": [
    "def print_top_words(model, feature_names, n_top_words):\n",
    "    for topic_idx, topic in enumerate(model.components_):\n",
    "        print(\"Topic #%d:\" % topic_idx)\n",
    "        print(\" \".join([feature_names[i]\n",
    "                        for i in topic.argsort()[:-n_top_words - 1:-1]]))\n",
    "    print()"
   ]
  },
  {
   "cell_type": "code",
   "execution_count": 35,
   "metadata": {
    "collapsed": false
   },
   "outputs": [
    {
     "name": "stdout",
     "output_type": "stream",
     "text": [
      "\n",
      "Topics in LDA model:\n",
      "Topic #0:\n",
      "com new like just people time world news 10 2011 health sports said http best year fashion www video 2010\n",
      "Topic #1:\n",
      "recipe cup make food chocolate minutes add recipes butter just sugar like cream cheese time water baking cake use salt\n",
      "()\n"
     ]
    }
   ],
   "source": [
    "lda = LatentDirichletAllocation(n_topics=n_topics, max_iter=5,\n",
    "                                learning_method='online',\n",
    "                                learning_offset=50.,\n",
    "                                random_state=0)\n",
    "\n",
    "lda.fit(tf)\n",
    "\n",
    "\n",
    "print(\"\\nTopics in LDA model:\")\n",
    "tf_feature_names = tf_vectorizer.get_feature_names()\n",
    "print_top_words(lda, tf_feature_names, n_top_words)"
   ]
  },
  {
   "cell_type": "markdown",
   "metadata": {
    "collapsed": true
   },
   "source": [
    "# Principal Component Analysis or TruncatedSVD"
   ]
  },
  {
   "cell_type": "markdown",
   "metadata": {},
   "source": [
    "Dimensionality reduction using truncated SVD (aka LSA).\n",
    "This transformer performs linear dimensionality reduction by means of truncated singular value decomposition (SVD). Contrary to PCA, this estimator does not center the data before computing the singular value decomposition. This means it can work with scipy.sparse matrices efficiently.\n",
    "In particular, truncated SVD works on term count/tf-idf matrices as returned by the vectorizers in sklearn.feature_extraction.text. In that context, it is known as latent semantic analysis (LSA).\n",
    "This estimator supports two algorithms: a fast randomized SVD solver, and a “naive” algorithm that uses ARPACK as an eigensolver on (X * X.T) or (X.T * X), whichever is more efficient.\n"
   ]
  },
  {
   "cell_type": "code",
   "execution_count": 117,
   "metadata": {
    "collapsed": false,
    "scrolled": true
   },
   "outputs": [
    {
     "data": {
      "text/plain": [
       "\"from sklearn import decomposition\\n#Assumed you have training and test data set as train and test\\n# Create PCA obeject \\npca= decomposition.PCA(n_components=1) #default value of k =min(n_sample, n_features)\\n# For Factor analysis\\n#fa= decomposition.FactorAnalysis()\\n# Reduced the dimension of training dataset using PCA\\nfrom sklearn.preprocessing import normalize\\n#normalized=normalize(data, norm='l2', axis=1, copy=True)\\n\\nreduced = pca.fit_transform(tfidf_matrix)\\n\\nprint(pca.explained_variance_ratio_)\\n\""
      ]
     },
     "execution_count": 117,
     "metadata": {},
     "output_type": "execute_result"
    }
   ],
   "source": [
    "\"\"\"from sklearn import decomposition\n",
    "#Assumed you have training and test data set as train and test\n",
    "# Create PCA obeject \n",
    "pca= decomposition.PCA(n_components=1) #default value of k =min(n_sample, n_features)\n",
    "# For Factor analysis\n",
    "#fa= decomposition.FactorAnalysis()\n",
    "# Reduced the dimension of training dataset using PCA\n",
    "from sklearn.preprocessing import normalize\n",
    "#normalized=normalize(data, norm='l2', axis=1, copy=True)\n",
    "\n",
    "reduced = pca.fit_transform(tfidf_matrix)\n",
    "\n",
    "print(pca.explained_variance_ratio_)\n",
    "\"\"\"\n",
    "##PCA is not useful in reducing sparse matrix "
   ]
  },
  {
   "cell_type": "code",
   "execution_count": 119,
   "metadata": {
    "collapsed": true
   },
   "outputs": [],
   "source": [
    "from sklearn.decomposition import SparsePCA\n",
    "SparsePCA=SparsePCA(n_components=None, alpha=1, ridge_alpha=0.01, max_iter=1000, tol=1e-08, method='lars', n_jobs=1, U_init=None, V_init=None, verbose=False, random_state=None)"
   ]
  },
  {
   "cell_type": "code",
   "execution_count": 120,
   "metadata": {
    "collapsed": false
   },
   "outputs": [
    {
     "ename": "TypeError",
     "evalue": "A sparse matrix was passed, but dense data is required. Use X.toarray() to convert to a dense numpy array.",
     "output_type": "error",
     "traceback": [
      "\u001b[0;31m---------------------------------------------------------------------------\u001b[0m",
      "\u001b[0;31mTypeError\u001b[0m                                 Traceback (most recent call last)",
      "\u001b[0;32m<ipython-input-120-600036436d89>\u001b[0m in \u001b[0;36m<module>\u001b[0;34m()\u001b[0m\n\u001b[0;32m----> 1\u001b[0;31m \u001b[0mSparsePCAData\u001b[0m\u001b[0;34m=\u001b[0m\u001b[0mSparsePCA\u001b[0m\u001b[0;34m.\u001b[0m\u001b[0mfit_transform\u001b[0m\u001b[0;34m(\u001b[0m\u001b[0mtfidf_matrix\u001b[0m\u001b[0;34m)\u001b[0m\u001b[0;34m\u001b[0m\u001b[0m\n\u001b[0m",
      "\u001b[0;32m/Users/deepakmahapatra/anaconda/lib/python2.7/site-packages/sklearn/base.pyc\u001b[0m in \u001b[0;36mfit_transform\u001b[0;34m(self, X, y, **fit_params)\u001b[0m\n\u001b[1;32m    492\u001b[0m         \u001b[0;32mif\u001b[0m \u001b[0my\u001b[0m \u001b[0;32mis\u001b[0m \u001b[0mNone\u001b[0m\u001b[0;34m:\u001b[0m\u001b[0;34m\u001b[0m\u001b[0m\n\u001b[1;32m    493\u001b[0m             \u001b[0;31m# fit method of arity 1 (unsupervised transformation)\u001b[0m\u001b[0;34m\u001b[0m\u001b[0;34m\u001b[0m\u001b[0m\n\u001b[0;32m--> 494\u001b[0;31m             \u001b[0;32mreturn\u001b[0m \u001b[0mself\u001b[0m\u001b[0;34m.\u001b[0m\u001b[0mfit\u001b[0m\u001b[0;34m(\u001b[0m\u001b[0mX\u001b[0m\u001b[0;34m,\u001b[0m \u001b[0;34m**\u001b[0m\u001b[0mfit_params\u001b[0m\u001b[0;34m)\u001b[0m\u001b[0;34m.\u001b[0m\u001b[0mtransform\u001b[0m\u001b[0;34m(\u001b[0m\u001b[0mX\u001b[0m\u001b[0;34m)\u001b[0m\u001b[0;34m\u001b[0m\u001b[0m\n\u001b[0m\u001b[1;32m    495\u001b[0m         \u001b[0;32melse\u001b[0m\u001b[0;34m:\u001b[0m\u001b[0;34m\u001b[0m\u001b[0m\n\u001b[1;32m    496\u001b[0m             \u001b[0;31m# fit method of arity 2 (supervised transformation)\u001b[0m\u001b[0;34m\u001b[0m\u001b[0;34m\u001b[0m\u001b[0m\n",
      "\u001b[0;32m/Users/deepakmahapatra/anaconda/lib/python2.7/site-packages/sklearn/decomposition/sparse_pca.pyc\u001b[0m in \u001b[0;36mfit\u001b[0;34m(self, X, y)\u001b[0m\n\u001b[1;32m    109\u001b[0m         \"\"\"\n\u001b[1;32m    110\u001b[0m         \u001b[0mrandom_state\u001b[0m \u001b[0;34m=\u001b[0m \u001b[0mcheck_random_state\u001b[0m\u001b[0;34m(\u001b[0m\u001b[0mself\u001b[0m\u001b[0;34m.\u001b[0m\u001b[0mrandom_state\u001b[0m\u001b[0;34m)\u001b[0m\u001b[0;34m\u001b[0m\u001b[0m\n\u001b[0;32m--> 111\u001b[0;31m         \u001b[0mX\u001b[0m \u001b[0;34m=\u001b[0m \u001b[0mcheck_array\u001b[0m\u001b[0;34m(\u001b[0m\u001b[0mX\u001b[0m\u001b[0;34m)\u001b[0m\u001b[0;34m\u001b[0m\u001b[0m\n\u001b[0m\u001b[1;32m    112\u001b[0m         \u001b[0;32mif\u001b[0m \u001b[0mself\u001b[0m\u001b[0;34m.\u001b[0m\u001b[0mn_components\u001b[0m \u001b[0;32mis\u001b[0m \u001b[0mNone\u001b[0m\u001b[0;34m:\u001b[0m\u001b[0;34m\u001b[0m\u001b[0m\n\u001b[1;32m    113\u001b[0m             \u001b[0mn_components\u001b[0m \u001b[0;34m=\u001b[0m \u001b[0mX\u001b[0m\u001b[0;34m.\u001b[0m\u001b[0mshape\u001b[0m\u001b[0;34m[\u001b[0m\u001b[0;36m1\u001b[0m\u001b[0;34m]\u001b[0m\u001b[0;34m\u001b[0m\u001b[0m\n",
      "\u001b[0;32m/Users/deepakmahapatra/anaconda/lib/python2.7/site-packages/sklearn/utils/validation.pyc\u001b[0m in \u001b[0;36mcheck_array\u001b[0;34m(array, accept_sparse, dtype, order, copy, force_all_finite, ensure_2d, allow_nd, ensure_min_samples, ensure_min_features, warn_on_dtype, estimator)\u001b[0m\n\u001b[1;32m    378\u001b[0m     \u001b[0;32mif\u001b[0m \u001b[0msp\u001b[0m\u001b[0;34m.\u001b[0m\u001b[0missparse\u001b[0m\u001b[0;34m(\u001b[0m\u001b[0marray\u001b[0m\u001b[0;34m)\u001b[0m\u001b[0;34m:\u001b[0m\u001b[0;34m\u001b[0m\u001b[0m\n\u001b[1;32m    379\u001b[0m         array = _ensure_sparse_format(array, accept_sparse, dtype, copy,\n\u001b[0;32m--> 380\u001b[0;31m                                       force_all_finite)\n\u001b[0m\u001b[1;32m    381\u001b[0m     \u001b[0;32melse\u001b[0m\u001b[0;34m:\u001b[0m\u001b[0;34m\u001b[0m\u001b[0m\n\u001b[1;32m    382\u001b[0m         \u001b[0marray\u001b[0m \u001b[0;34m=\u001b[0m \u001b[0mnp\u001b[0m\u001b[0;34m.\u001b[0m\u001b[0marray\u001b[0m\u001b[0;34m(\u001b[0m\u001b[0marray\u001b[0m\u001b[0;34m,\u001b[0m \u001b[0mdtype\u001b[0m\u001b[0;34m=\u001b[0m\u001b[0mdtype\u001b[0m\u001b[0;34m,\u001b[0m \u001b[0morder\u001b[0m\u001b[0;34m=\u001b[0m\u001b[0morder\u001b[0m\u001b[0;34m,\u001b[0m \u001b[0mcopy\u001b[0m\u001b[0;34m=\u001b[0m\u001b[0mcopy\u001b[0m\u001b[0;34m)\u001b[0m\u001b[0;34m\u001b[0m\u001b[0m\n",
      "\u001b[0;32m/Users/deepakmahapatra/anaconda/lib/python2.7/site-packages/sklearn/utils/validation.pyc\u001b[0m in \u001b[0;36m_ensure_sparse_format\u001b[0;34m(spmatrix, accept_sparse, dtype, copy, force_all_finite)\u001b[0m\n\u001b[1;32m    241\u001b[0m     \"\"\"\n\u001b[1;32m    242\u001b[0m     \u001b[0;32mif\u001b[0m \u001b[0maccept_sparse\u001b[0m \u001b[0;32min\u001b[0m \u001b[0;34m[\u001b[0m\u001b[0mNone\u001b[0m\u001b[0;34m,\u001b[0m \u001b[0mFalse\u001b[0m\u001b[0;34m]\u001b[0m\u001b[0;34m:\u001b[0m\u001b[0;34m\u001b[0m\u001b[0m\n\u001b[0;32m--> 243\u001b[0;31m         raise TypeError('A sparse matrix was passed, but dense '\n\u001b[0m\u001b[1;32m    244\u001b[0m                         \u001b[0;34m'data is required. Use X.toarray() to '\u001b[0m\u001b[0;34m\u001b[0m\u001b[0m\n\u001b[1;32m    245\u001b[0m                         'convert to a dense numpy array.')\n",
      "\u001b[0;31mTypeError\u001b[0m: A sparse matrix was passed, but dense data is required. Use X.toarray() to convert to a dense numpy array."
     ]
    }
   ],
   "source": [
    "SparsePCAData=SparsePCA.fit_transform(tfidf_matrix)"
   ]
  },
  {
   "cell_type": "code",
   "execution_count": 141,
   "metadata": {
    "collapsed": false,
    "scrolled": false
   },
   "outputs": [],
   "source": [
    "from sklearn.decomposition import TruncatedSVD\n",
    "from sklearn.random_projection import sparse_random_matrix\n",
    "variance_list=[]\n",
    "for i in range(43):\n",
    "    svd = TruncatedSVD(n_components=i, n_iter=7, random_state=42)\n",
    "    svd.fit(tfidf_matrix) \n",
    "    #print(svd.explained_variance_ratio_)\n",
    "    #print(svd.explained_variance_ratio_.sum())\n",
    "    variance_list.append(svd.explained_variance_ratio_.sum()*100)"
   ]
  },
  {
   "cell_type": "code",
   "execution_count": 142,
   "metadata": {
    "collapsed": false
   },
   "outputs": [
    {
     "data": {
      "image/png": "[encoded data removed]",
      "text/plain": [
       "<matplotlib.figure.Figure at 0x12dbcb590>"
      ]
     },
     "metadata": {},
     "output_type": "display_data"
    }
   ],
   "source": [
    "import matplotlib.pyplot as plt\n",
    "plt.plot(variance_list)\n",
    "plt.ylabel('% Variance Explained')\n",
    "plt.xlabel('Number of Componenets Selected')\n",
    "plt.show()"
   ]
  },
  {
   "cell_type": "code",
   "execution_count": 143,
   "metadata": {
    "collapsed": false
   },
   "outputs": [],
   "source": [
    "selected_svd=TruncatedSVD(n_components=15, n_iter=7, random_state=42)\n",
    "#"
   ]
  },
  {
   "cell_type": "code",
   "execution_count": 144,
   "metadata": {
    "collapsed": false
   },
   "outputs": [],
   "source": [
    "SVD_data=selected_svd.fit_transform(tfidf_matrix)"
   ]
  },
  {
   "cell_type": "code",
   "execution_count": 145,
   "metadata": {
    "collapsed": true
   },
   "outputs": [],
   "source": [
    "SVD_data=pd.DataFrame(SVD_data)"
   ]
  },
  {
   "cell_type": "code",
   "execution_count": 146,
   "metadata": {
    "collapsed": false
   },
   "outputs": [
    {
     "data": {
      "text/plain": [
       "(7395, 15)"
      ]
     },
     "execution_count": 146,
     "metadata": {},
     "output_type": "execute_result"
    }
   ],
   "source": [
    "SVD_data.shape"
   ]
  },
  {
   "cell_type": "code",
   "execution_count": 147,
   "metadata": {
    "collapsed": false
   },
   "outputs": [],
   "source": [
    "train_SVD=SVD_data.merge(train_dummies,left_index=True,right_index=True)"
   ]
  },
  {
   "cell_type": "code",
   "execution_count": 148,
   "metadata": {
    "collapsed": false
   },
   "outputs": [
    {
     "data": {
      "text/plain": [
       "(7395, 52)"
      ]
     },
     "execution_count": 148,
     "metadata": {},
     "output_type": "execute_result"
    }
   ],
   "source": [
    "train_SVD.shape"
   ]
  },
  {
   "cell_type": "code",
   "execution_count": 149,
   "metadata": {
    "collapsed": false
   },
   "outputs": [
    {
     "name": "stdout",
     "output_type": "stream",
     "text": [
      "(5177, 52)\n",
      "(2218, 52)\n"
     ]
    }
   ],
   "source": [
    "from sklearn.cross_validation import train_test_split\n",
    "\n",
    "# Generate the training set.  Set random_state to be able to replicate results.\n",
    "train1_SVD = train_SVD.sample(frac=0.7, random_state=1)\n",
    "# Select anything not in the training set and put it in the testing set.\n",
    "test1_SVD = train_SVD.loc[~train_dummies.index.isin(train1.index)]\n",
    "# Print the shapes of both sets.\n",
    "print(train1_SVD.shape)\n",
    "print(test1_SVD.shape)"
   ]
  },
  {
   "cell_type": "code",
   "execution_count": 150,
   "metadata": {
    "collapsed": false
   },
   "outputs": [],
   "source": [
    "label_train_SVD=train1_SVD.pop(\"label\")\n",
    "label_test_SVD=test1_SVD.pop(\"label\")\n",
    "#print label_train.shape\n",
    "#print label_test.shape"
   ]
  },
  {
   "cell_type": "code",
   "execution_count": 152,
   "metadata": {
    "collapsed": false
   },
   "outputs": [],
   "source": [
    "#train1_SVD.drop([\"url\",\"urlid\",\"boilerplate\"],inplace=True,axis=1)\n",
    "#test1_SVD.drop([\"url\",\"urlid\",\"boilerplate\"],inplace=True,axis=1)\n",
    "dtrain_SVD = xgb.DMatrix( train1_SVD, label=label_train_SVD)\n",
    "dtest_SVD= xgb.DMatrix(test1_SVD,label=label_test_SVD)\n"
   ]
  },
  {
   "cell_type": "code",
   "execution_count": 153,
   "metadata": {
    "collapsed": false
   },
   "outputs": [
    {
     "name": "stdout",
     "output_type": "stream",
     "text": [
      "(5177, 51)\n",
      "(2218, 51)\n"
     ]
    }
   ],
   "source": [
    "print train1_SVD.shape\n",
    "print test1_SVD.shape"
   ]
  },
  {
   "cell_type": "code",
   "execution_count": 154,
   "metadata": {
    "collapsed": true
   },
   "outputs": [],
   "source": [
    "param = {'bst:max_depth':10, 'bst:eta':0.5, 'silent':1, 'objective':'binary:logistic' }\n",
    "param['nthread'] = 4\n",
    "param['eval_metric'] = 'auc'\n",
    "evallist  = [(dtest_SVD,'eval'), (dtrain_SVD,'train')]\n"
   ]
  },
  {
   "cell_type": "code",
   "execution_count": 158,
   "metadata": {
    "collapsed": false,
    "scrolled": true
   },
   "outputs": [
    {
     "name": "stdout",
     "output_type": "stream",
     "text": [
      "[0]\teval-auc:0.814247\ttrain-auc:0.858447\n",
      "[1]\teval-auc:0.829534\ttrain-auc:0.878884\n",
      "[2]\teval-auc:0.834133\ttrain-auc:0.892555\n",
      "[3]\teval-auc:0.832404\ttrain-auc:0.899798\n",
      "[4]\teval-auc:0.831532\ttrain-auc:0.909527\n",
      "[5]\teval-auc:0.833093\ttrain-auc:0.916527\n",
      "[6]\teval-auc:0.835915\ttrain-auc:0.922811\n",
      "[7]\teval-auc:0.835681\ttrain-auc:0.927004\n",
      "[8]\teval-auc:0.835953\ttrain-auc:0.930685\n",
      "[9]\teval-auc:0.835834\ttrain-auc:0.934572\n"
     ]
    }
   ],
   "source": [
    "num_round = 10\n",
    "bstSVD = xgb.train( param, dtrain_SVD, num_round, evallist )"
   ]
  },
  {
   "cell_type": "code",
   "execution_count": 160,
   "metadata": {
    "collapsed": false,
    "scrolled": true
   },
   "outputs": [],
   "source": [
    "ypredSVD = bstSVD.predict(dtest_SVD)"
   ]
  },
  {
   "cell_type": "code",
   "execution_count": 161,
   "metadata": {
    "collapsed": false
   },
   "outputs": [
    {
     "data": {
      "text/plain": [
       "<matplotlib.axes._subplots.AxesSubplot at 0x12e4159d0>"
      ]
     },
     "execution_count": 161,
     "metadata": {},
     "output_type": "execute_result"
    },
    {
     "data": {
      "image/png": "[encoded data removed]",
      "text/plain": [
       "<matplotlib.figure.Figure at 0x12dbcbfd0>"
      ]
     },
     "metadata": {},
     "output_type": "display_data"
    }
   ],
   "source": [
    "xgb.plot_importance(bstSVD)"
   ]
  },
  {
   "cell_type": "code",
   "execution_count": 163,
   "metadata": {
    "collapsed": true
   },
   "outputs": [],
   "source": [
    "predictionsSVD = [round(value) for value in ypred]"
   ]
  },
  {
   "cell_type": "code",
   "execution_count": 164,
   "metadata": {
    "collapsed": false
   },
   "outputs": [
    {
     "name": "stdout",
     "output_type": "stream",
     "text": [
      "0.754186346071\n"
     ]
    }
   ],
   "source": [
    "from sklearn import metrics\n",
    "fprPCA, tprPCA, thresholdsPCA = sklearn.metrics.roc_curve(label_test_SVD, predictionsSVD, pos_label=1)\n",
    "aucPCA = sklearn.metrics.auc(fprPCA,tprPCA)\n",
    "print aucPCA"
   ]
  },
  {
   "cell_type": "code",
   "execution_count": 165,
   "metadata": {
    "collapsed": false
   },
   "outputs": [
    {
     "data": {
      "text/plain": [
       "0.75293056807935077"
      ]
     },
     "execution_count": 165,
     "metadata": {},
     "output_type": "execute_result"
    }
   ],
   "source": [
    "sklearn.metrics.accuracy_score(label_test_SVD, predictionsSVD, normalize=True, sample_weight=None)"
   ]
  },
  {
   "cell_type": "code",
   "execution_count": 169,
   "metadata": {
    "collapsed": true
   },
   "outputs": [],
   "source": [
    "\n",
    "fpr_grd, tpr_grd, _ = sklearn.metrics.roc_curve(label_test_SVD, predictionsSVD)\n",
    "\n",
    "\n",
    "# The random forest model by itself\n"
   ]
  },
  {
   "cell_type": "markdown",
   "metadata": {},
   "source": [
    "# ROC Curve"
   ]
  },
  {
   "cell_type": "code",
   "execution_count": 172,
   "metadata": {
    "collapsed": false
   },
   "outputs": [
    {
     "data": {
      "image/png": "[encoded data removed]",
      "text/plain": [
       "<matplotlib.figure.Figure at 0x12061e750>"
      ]
     },
     "metadata": {},
     "output_type": "display_data"
    }
   ],
   "source": [
    "plt.figure(1)\n",
    "plt.plot([0, 1], [0, 1], 'k--')\n",
    "plt.plot(fpr_grd,tpr_grd,label=\"SVD\")\n",
    "plt.plot(fpr_xg, tpr_xg, label='K Means')\n",
    "plt.xlabel('False positive rate')\n",
    "plt.ylabel('True positive rate')\n",
    "plt.title('ROC curve')\n",
    "plt.legend(loc='best')\n",
    "plt.show()"
   ]
  },
  {
   "cell_type": "markdown",
   "metadata": {},
   "source": [
    "# Bayes"
   ]
  },
  {
   "cell_type": "code",
   "execution_count": null,
   "metadata": {
    "collapsed": true
   },
   "outputs": [],
   "source": []
  },
  {
   "cell_type": "code",
   "execution_count": 73,
   "metadata": {
    "collapsed": true
   },
   "outputs": [],
   "source": [
    "from sklearn.feature_extraction.text import CountVectorizer\n",
    "\n",
    "count_vectorizer = CountVectorizer()\n",
    "counts = count_vectorizer.fit_transform(train.boilerplate.values)"
   ]
  },
  {
   "cell_type": "code",
   "execution_count": 75,
   "metadata": {
    "collapsed": false
   },
   "outputs": [
    {
     "name": "stdout",
     "output_type": "stream",
     "text": [
      "(7395, 91592)\n",
      "(7395,)\n"
     ]
    }
   ],
   "source": [
    "print counts.shape\n",
    "print y.shape"
   ]
  },
  {
   "cell_type": "code",
   "execution_count": null,
   "metadata": {
    "collapsed": false,
    "scrolled": true
   },
   "outputs": [],
   "source": []
  },
  {
   "cell_type": "code",
   "execution_count": 76,
   "metadata": {
    "collapsed": false,
    "scrolled": true
   },
   "outputs": [
    {
     "data": {
      "text/plain": [
       "MultinomialNB(alpha=1.0, class_prior=None, fit_prior=True)"
      ]
     },
     "execution_count": 76,
     "metadata": {},
     "output_type": "execute_result"
    }
   ],
   "source": [
    "from sklearn.naive_bayes import MultinomialNB\n",
    "\n",
    "classifier = MultinomialNB()\n",
    "targets = y\n",
    "classifier.fit(counts, targets)"
   ]
  },
  {
   "cell_type": "code",
   "execution_count": 78,
   "metadata": {
    "collapsed": false
   },
   "outputs": [
    {
     "data": {
      "text/plain": [
       "array([0, 0, 1, ..., 1, 0, 0])"
      ]
     },
     "execution_count": 78,
     "metadata": {},
     "output_type": "execute_result"
    }
   ],
   "source": [
    "#test_counts = count_vectorizer.transform(test1.boilerplate)\n",
    "clustetr_naive = classifier.predict(counts)\n",
    "clustetr_naive"
   ]
  },
  {
   "cell_type": "code",
   "execution_count": 79,
   "metadata": {
    "collapsed": true
   },
   "outputs": [],
   "source": [
    "train[\"clustetr_naive\"]=clusters"
   ]
  },
  {
   "cell_type": "code",
   "execution_count": 118,
   "metadata": {
    "collapsed": false
   },
   "outputs": [],
   "source": [
    "#train[train[\"clustetr_naive\"]==1]"
   ]
  },
  {
   "cell_type": "markdown",
   "metadata": {},
   "source": [
    "# Logistic Regression model"
   ]
  },
  {
   "cell_type": "code",
   "execution_count": 29,
   "metadata": {
    "collapsed": true
   },
   "outputs": [],
   "source": [
    "import sklearn.linear_model as lm"
   ]
  },
  {
   "cell_type": "code",
   "execution_count": 30,
   "metadata": {
    "collapsed": true
   },
   "outputs": [],
   "source": [
    "rd = lm.LogisticRegression(penalty='l2', dual=True, tol=0.0001, \n",
    "                             C=1, fit_intercept=True, intercept_scaling=1.0, \n",
    "                             class_weight=None, random_state=None)"
   ]
  },
  {
   "cell_type": "code",
   "execution_count": null,
   "metadata": {
    "collapsed": false
   },
   "outputs": [],
   "source": [
    "rd.fit(train1,label_train)"
   ]
  },
  {
   "cell_type": "code",
   "execution_count": null,
   "metadata": {
    "collapsed": false
   },
   "outputs": [],
   "source": [
    "LR_predictions=rd.predict(test1)"
   ]
  },
  {
   "cell_type": "code",
   "execution_count": null,
   "metadata": {
    "collapsed": false
   },
   "outputs": [],
   "source": [
    "sklearn.metrics.accuracy_score(label_test, LR_predictions, normalize=True, sample_weight=None)"
   ]
  },
  {
   "cell_type": "code",
   "execution_count": null,
   "metadata": {
    "collapsed": false
   },
   "outputs": [],
   "source": [
    "from sklearn.metrics import roc_auc_score\n",
    "roc_auc_score(label_test, LR_predictions)"
   ]
  },
  {
   "cell_type": "code",
   "execution_count": null,
   "metadata": {
    "collapsed": true
   },
   "outputs": [],
   "source": [
    "from sklearn.model_selection import learning_curve\n",
    "\n",
    "\n",
    "train_sizes, train_scores, valid_scores = learning_curve(rd, train1,label_train, train_sizes=[50, 80, 110], cv=5)\n",
    "\n",
    "#train_scores           \n",
    "\n",
    "#valid_scores           \n"
   ]
  },
  {
   "cell_type": "code",
   "execution_count": 23,
   "metadata": {
    "collapsed": true
   },
   "outputs": [],
   "source": [
    "import numpy as np\n",
    "import matplotlib.pyplot as plt\n",
    "from sklearn.naive_bayes import GaussianNB\n",
    "from sklearn.svm import SVC\n",
    "from sklearn.datasets import load_digits\n",
    "from sklearn.model_selection import learning_curve\n",
    "from sklearn.model_selection import ShuffleSplit\n"
   ]
  },
  {
   "cell_type": "code",
   "execution_count": 31,
   "metadata": {
    "collapsed": true
   },
   "outputs": [],
   "source": [
    "def plot_learning_curve(estimator, title, X, y, ylim=None, cv=None,\n",
    "                        n_jobs=1, train_sizes=np.linspace(.1, 1.0, 5)):\n",
    "    \"\"\"\n",
    "    Generate a simple plot of the test and training learning curve.\n",
    "\n",
    "    Parameters\n",
    "    ----------\n",
    "    estimator : object type that implements the \"fit\" and \"predict\" methods\n",
    "        An object of that type which is cloned for each validation.\n",
    "\n",
    "    title : string\n",
    "        Title for the chart.\n",
    "\n",
    "    X : array-like, shape (n_samples, n_features)\n",
    "        Training vector, where n_samples is the number of samples and\n",
    "        n_features is the number of features.\n",
    "\n",
    "    y : array-like, shape (n_samples) or (n_samples, n_features), optional\n",
    "        Target relative to X for classification or regression;\n",
    "        None for unsupervised learning.\n",
    "\n",
    "    ylim : tuple, shape (ymin, ymax), optional\n",
    "        Defines minimum and maximum yvalues plotted.\n",
    "\n",
    "    cv : int, cross-validation generator or an iterable, optional\n",
    "        Determines the cross-validation splitting strategy.\n",
    "        Possible inputs for cv are:\n",
    "          - None, to use the default 3-fold cross-validation,\n",
    "          - integer, to specify the number of folds.\n",
    "          - An object to be used as a cross-validation generator.\n",
    "          - An iterable yielding train/test splits.\n",
    "\n",
    "        For integer/None inputs, if ``y`` is binary or multiclass,\n",
    "        :class:`StratifiedKFold` used. If the estimator is not a classifier\n",
    "        or if ``y`` is neither binary nor multiclass, :class:`KFold` is used.\n",
    "\n",
    "        Refer :ref:`User Guide <cross_validation>` for the various\n",
    "        cross-validators that can be used here.\n",
    "\n",
    "    n_jobs : integer, optional\n",
    "        Number of jobs to run in parallel (default 1).\n",
    "    \"\"\"\n",
    "    plt.figure()\n",
    "    plt.title(title)\n",
    "    if ylim is not None:\n",
    "        plt.ylim(*ylim)\n",
    "    plt.xlabel(\"Training examples\")\n",
    "    plt.ylabel(\"Score\")\n",
    "    train_sizes, train_scores, test_scores = learning_curve(\n",
    "        estimator, X, y, cv=cv, n_jobs=n_jobs, train_sizes=train_sizes)\n",
    "    train_scores_mean = np.mean(train_scores, axis=1)\n",
    "    train_scores_std = np.std(train_scores, axis=1)\n",
    "    test_scores_mean = np.mean(test_scores, axis=1)\n",
    "    test_scores_std = np.std(test_scores, axis=1)\n",
    "    plt.grid()\n",
    "\n",
    "    plt.fill_between(train_sizes, train_scores_mean - train_scores_std,\n",
    "                     train_scores_mean + train_scores_std, alpha=0.1,\n",
    "                     color=\"r\")\n",
    "    plt.fill_between(train_sizes, test_scores_mean - test_scores_std,\n",
    "                     test_scores_mean + test_scores_std, alpha=0.1, color=\"g\")\n",
    "    plt.plot(train_sizes, train_scores_mean, 'o-', color=\"r\",\n",
    "             label=\"Training score\")\n",
    "    plt.plot(train_sizes, test_scores_mean, 'o-', color=\"g\",\n",
    "             label=\"Cross-validation score\")\n",
    "\n",
    "    plt.legend(loc=\"best\")\n",
    "    return plt"
   ]
  },
  {
   "cell_type": "code",
   "execution_count": null,
   "metadata": {
    "collapsed": false
   },
   "outputs": [],
   "source": [
    "\n",
    "X, y = train1,label_train\n",
    "\n",
    "title = \"Learning Curves (Logistic Regression)\"\n",
    "# Cross validation with 100 iterations to get smoother mean test and train\n",
    "# score curves, each time with 20% data randomly selected as a validation set.\n",
    "cv = ShuffleSplit(n_splits=100, test_size=0.2, random_state=0)\n",
    "\n",
    "estimator = rd\n",
    "plot_learning_curve(estimator, title, X, y, ylim=(0.7, 1.01), cv=cv, n_jobs=4)\n",
    "\n",
    "#title = \"Learning Curves (SVM, RBF kernel, $\\gamma=0.001$)\"\n",
    "# SVC is more expensive so we do a lower number of CV iterations:\n",
    "\n",
    "plt.show()"
   ]
  },
  {
   "cell_type": "markdown",
   "metadata": {},
   "source": [
    "## Testing how many components to select"
   ]
  },
  {
   "cell_type": "code",
   "execution_count": 202,
   "metadata": {
    "collapsed": false,
    "scrolled": true
   },
   "outputs": [
    {
     "name": "stdout",
     "output_type": "stream",
     "text": [
      "[0]\teval-auc:0.814247\ttrain-auc:0.858447\n",
      "[1]\teval-auc:0.829534\ttrain-auc:0.878884\n",
      "[2]\teval-auc:0.834133\ttrain-auc:0.892555\n",
      "[3]\teval-auc:0.832404\ttrain-auc:0.899798\n",
      "[4]\teval-auc:0.831532\ttrain-auc:0.909527\n",
      "[5]\teval-auc:0.833093\ttrain-auc:0.916527\n",
      "[6]\teval-auc:0.835915\ttrain-auc:0.922811\n",
      "[7]\teval-auc:0.835681\ttrain-auc:0.927004\n",
      "[8]\teval-auc:0.835953\ttrain-auc:0.930685\n",
      "[9]\teval-auc:0.835834\ttrain-auc:0.934572\n",
      "[0]\teval-auc:0.814247\ttrain-auc:0.858447\n",
      "[1]\teval-auc:0.829534\ttrain-auc:0.878884\n",
      "[2]\teval-auc:0.834133\ttrain-auc:0.892555\n",
      "[3]\teval-auc:0.832404\ttrain-auc:0.899798\n",
      "[4]\teval-auc:0.831532\ttrain-auc:0.909527\n",
      "[5]\teval-auc:0.833093\ttrain-auc:0.916527\n",
      "[6]\teval-auc:0.835915\ttrain-auc:0.922811\n",
      "[7]\teval-auc:0.835681\ttrain-auc:0.927004\n",
      "[8]\teval-auc:0.835953\ttrain-auc:0.930685\n",
      "[9]\teval-auc:0.835834\ttrain-auc:0.934572\n",
      "[0]\teval-auc:0.814247\ttrain-auc:0.858447\n",
      "[1]\teval-auc:0.829534\ttrain-auc:0.878884\n",
      "[2]\teval-auc:0.834133\ttrain-auc:0.892555\n",
      "[3]\teval-auc:0.832404\ttrain-auc:0.899798\n",
      "[4]\teval-auc:0.831532\ttrain-auc:0.909527\n",
      "[5]\teval-auc:0.833093\ttrain-auc:0.916527\n",
      "[6]\teval-auc:0.835915\ttrain-auc:0.922811\n",
      "[7]\teval-auc:0.835681\ttrain-auc:0.927004\n",
      "[8]\teval-auc:0.835953\ttrain-auc:0.930685\n",
      "[9]\teval-auc:0.835834\ttrain-auc:0.934572\n",
      "[0]\teval-auc:0.814247\ttrain-auc:0.858447\n",
      "[1]\teval-auc:0.829534\ttrain-auc:0.878884\n",
      "[2]\teval-auc:0.834133\ttrain-auc:0.892555\n",
      "[3]\teval-auc:0.832404\ttrain-auc:0.899798\n",
      "[4]\teval-auc:0.831532\ttrain-auc:0.909527\n",
      "[5]\teval-auc:0.833093\ttrain-auc:0.916527\n",
      "[6]\teval-auc:0.835915\ttrain-auc:0.922811\n",
      "[7]\teval-auc:0.835681\ttrain-auc:0.927004\n",
      "[8]\teval-auc:0.835953\ttrain-auc:0.930685\n",
      "[9]\teval-auc:0.835834\ttrain-auc:0.934572\n",
      "[0]\teval-auc:0.814247\ttrain-auc:0.858447\n",
      "[1]\teval-auc:0.829534\ttrain-auc:0.878884\n",
      "[2]\teval-auc:0.834133\ttrain-auc:0.892555\n",
      "[3]\teval-auc:0.832404\ttrain-auc:0.899798\n",
      "[4]\teval-auc:0.831532\ttrain-auc:0.909527\n",
      "[5]\teval-auc:0.833093\ttrain-auc:0.916527\n",
      "[6]\teval-auc:0.835915\ttrain-auc:0.922811\n",
      "[7]\teval-auc:0.835681\ttrain-auc:0.927004\n",
      "[8]\teval-auc:0.835953\ttrain-auc:0.930685\n",
      "[9]\teval-auc:0.835834\ttrain-auc:0.934572\n",
      "[0]\teval-auc:0.814247\ttrain-auc:0.858447\n",
      "[1]\teval-auc:0.829534\ttrain-auc:0.878884\n",
      "[2]\teval-auc:0.834133\ttrain-auc:0.892555\n",
      "[3]\teval-auc:0.832404\ttrain-auc:0.899798\n",
      "[4]\teval-auc:0.831532\ttrain-auc:0.909527\n",
      "[5]\teval-auc:0.833093\ttrain-auc:0.916527\n",
      "[6]\teval-auc:0.835915\ttrain-auc:0.922811\n",
      "[7]\teval-auc:0.835681\ttrain-auc:0.927004\n",
      "[8]\teval-auc:0.835953\ttrain-auc:0.930685\n",
      "[9]\teval-auc:0.835834\ttrain-auc:0.934572\n",
      "[0]\teval-auc:0.814247\ttrain-auc:0.858447\n",
      "[1]\teval-auc:0.829534\ttrain-auc:0.878884\n",
      "[2]\teval-auc:0.834133\ttrain-auc:0.892555\n",
      "[3]\teval-auc:0.832404\ttrain-auc:0.899798\n",
      "[4]\teval-auc:0.831532\ttrain-auc:0.909527\n",
      "[5]\teval-auc:0.833093\ttrain-auc:0.916527\n",
      "[6]\teval-auc:0.835915\ttrain-auc:0.922811\n",
      "[7]\teval-auc:0.835681\ttrain-auc:0.927004\n",
      "[8]\teval-auc:0.835953\ttrain-auc:0.930685\n",
      "[9]\teval-auc:0.835834\ttrain-auc:0.934572\n",
      "[0]\teval-auc:0.814247\ttrain-auc:0.858447\n",
      "[1]\teval-auc:0.829534\ttrain-auc:0.878884\n",
      "[2]\teval-auc:0.834133\ttrain-auc:0.892555\n",
      "[3]\teval-auc:0.832404\ttrain-auc:0.899798\n",
      "[4]\teval-auc:0.831532\ttrain-auc:0.909527\n",
      "[5]\teval-auc:0.833093\ttrain-auc:0.916527\n",
      "[6]\teval-auc:0.835915\ttrain-auc:0.922811\n",
      "[7]\teval-auc:0.835681\ttrain-auc:0.927004\n",
      "[8]\teval-auc:0.835953\ttrain-auc:0.930685\n",
      "[9]\teval-auc:0.835834\ttrain-auc:0.934572\n",
      "[0]\teval-auc:0.814247\ttrain-auc:0.858447\n",
      "[1]\teval-auc:0.829534\ttrain-auc:0.878884\n",
      "[2]\teval-auc:0.834133\ttrain-auc:0.892555\n",
      "[3]\teval-auc:0.832404\ttrain-auc:0.899798\n",
      "[4]\teval-auc:0.831532\ttrain-auc:0.909527\n",
      "[5]\teval-auc:0.833093\ttrain-auc:0.916527\n",
      "[6]\teval-auc:0.835915\ttrain-auc:0.922811\n",
      "[7]\teval-auc:0.835681\ttrain-auc:0.927004\n",
      "[8]\teval-auc:0.835953\ttrain-auc:0.930685\n",
      "[9]\teval-auc:0.835834\ttrain-auc:0.934572\n",
      "[0]\teval-auc:0.814247\ttrain-auc:0.858447\n",
      "[1]\teval-auc:0.829534\ttrain-auc:0.878884\n",
      "[2]\teval-auc:0.834133\ttrain-auc:0.892555\n",
      "[3]\teval-auc:0.832404\ttrain-auc:0.899798\n",
      "[4]\teval-auc:0.831532\ttrain-auc:0.909527\n",
      "[5]\teval-auc:0.833093\ttrain-auc:0.916527\n",
      "[6]\teval-auc:0.835915\ttrain-auc:0.922811\n",
      "[7]\teval-auc:0.835681\ttrain-auc:0.927004\n",
      "[8]\teval-auc:0.835953\ttrain-auc:0.930685\n",
      "[9]\teval-auc:0.835834\ttrain-auc:0.934572\n",
      "[0]\teval-auc:0.814247\ttrain-auc:0.858447\n",
      "[1]\teval-auc:0.829534\ttrain-auc:0.878884\n",
      "[2]\teval-auc:0.834133\ttrain-auc:0.892555\n",
      "[3]\teval-auc:0.832404\ttrain-auc:0.899798\n",
      "[4]\teval-auc:0.831532\ttrain-auc:0.909527\n",
      "[5]\teval-auc:0.833093\ttrain-auc:0.916527\n",
      "[6]\teval-auc:0.835915\ttrain-auc:0.922811\n",
      "[7]\teval-auc:0.835681\ttrain-auc:0.927004\n",
      "[8]\teval-auc:0.835953\ttrain-auc:0.930685\n",
      "[9]\teval-auc:0.835834\ttrain-auc:0.934572\n",
      "[0]\teval-auc:0.814247\ttrain-auc:0.858447\n",
      "[1]\teval-auc:0.829534\ttrain-auc:0.878884\n",
      "[2]\teval-auc:0.834133\ttrain-auc:0.892555\n",
      "[3]\teval-auc:0.832404\ttrain-auc:0.899798\n",
      "[4]\teval-auc:0.831532\ttrain-auc:0.909527\n",
      "[5]\teval-auc:0.833093\ttrain-auc:0.916527\n",
      "[6]\teval-auc:0.835915\ttrain-auc:0.922811\n",
      "[7]\teval-auc:0.835681\ttrain-auc:0.927004\n",
      "[8]\teval-auc:0.835953\ttrain-auc:0.930685\n",
      "[9]\teval-auc:0.835834\ttrain-auc:0.934572\n",
      "[0]\teval-auc:0.814247\ttrain-auc:0.858447\n",
      "[1]\teval-auc:0.829534\ttrain-auc:0.878884\n",
      "[2]\teval-auc:0.834133\ttrain-auc:0.892555\n",
      "[3]\teval-auc:0.832404\ttrain-auc:0.899798\n",
      "[4]\teval-auc:0.831532\ttrain-auc:0.909527\n",
      "[5]\teval-auc:0.833093\ttrain-auc:0.916527\n",
      "[6]\teval-auc:0.835915\ttrain-auc:0.922811\n",
      "[7]\teval-auc:0.835681\ttrain-auc:0.927004\n",
      "[8]\teval-auc:0.835953\ttrain-auc:0.930685\n",
      "[9]\teval-auc:0.835834\ttrain-auc:0.934572\n",
      "[0]\teval-auc:0.814247\ttrain-auc:0.858447\n",
      "[1]\teval-auc:0.829534\ttrain-auc:0.878884\n",
      "[2]\teval-auc:0.834133\ttrain-auc:0.892555\n",
      "[3]\teval-auc:0.832404\ttrain-auc:0.899798\n",
      "[4]\teval-auc:0.831532\ttrain-auc:0.909527\n",
      "[5]\teval-auc:0.833093\ttrain-auc:0.916527\n",
      "[6]\teval-auc:0.835915\ttrain-auc:0.922811\n",
      "[7]\teval-auc:0.835681\ttrain-auc:0.927004\n",
      "[8]\teval-auc:0.835953\ttrain-auc:0.930685\n",
      "[9]\teval-auc:0.835834\ttrain-auc:0.934572\n",
      "[0]\teval-auc:0.814247\ttrain-auc:0.858447\n",
      "[1]\teval-auc:0.829534\ttrain-auc:0.878884\n",
      "[2]\teval-auc:0.834133\ttrain-auc:0.892555\n",
      "[3]\teval-auc:0.832404\ttrain-auc:0.899798\n",
      "[4]\teval-auc:0.831532\ttrain-auc:0.909527\n",
      "[5]\teval-auc:0.833093\ttrain-auc:0.916527\n",
      "[6]\teval-auc:0.835915\ttrain-auc:0.922811\n",
      "[7]\teval-auc:0.835681\ttrain-auc:0.927004\n",
      "[8]\teval-auc:0.835953\ttrain-auc:0.930685\n",
      "[9]\teval-auc:0.835834\ttrain-auc:0.934572\n",
      "[0]\teval-auc:0.814247\ttrain-auc:0.858447\n",
      "[1]\teval-auc:0.829534\ttrain-auc:0.878884\n",
      "[2]\teval-auc:0.834133\ttrain-auc:0.892555\n",
      "[3]\teval-auc:0.832404\ttrain-auc:0.899798\n",
      "[4]\teval-auc:0.831532\ttrain-auc:0.909527\n",
      "[5]\teval-auc:0.833093\ttrain-auc:0.916527\n",
      "[6]\teval-auc:0.835915\ttrain-auc:0.922811\n",
      "[7]\teval-auc:0.835681\ttrain-auc:0.927004\n",
      "[8]\teval-auc:0.835953\ttrain-auc:0.930685\n",
      "[9]\teval-auc:0.835834\ttrain-auc:0.934572\n",
      "[0]\teval-auc:0.814247\ttrain-auc:0.858447\n",
      "[1]\teval-auc:0.829534\ttrain-auc:0.878884\n",
      "[2]\teval-auc:0.834133\ttrain-auc:0.892555\n",
      "[3]\teval-auc:0.832404\ttrain-auc:0.899798\n",
      "[4]\teval-auc:0.831532\ttrain-auc:0.909527\n",
      "[5]\teval-auc:0.833093\ttrain-auc:0.916527\n",
      "[6]\teval-auc:0.835915\ttrain-auc:0.922811\n",
      "[7]\teval-auc:0.835681\ttrain-auc:0.927004\n",
      "[8]\teval-auc:0.835953\ttrain-auc:0.930685\n",
      "[9]\teval-auc:0.835834\ttrain-auc:0.934572\n",
      "[0]\teval-auc:0.814247\ttrain-auc:0.858447\n",
      "[1]\teval-auc:0.829534\ttrain-auc:0.878884\n",
      "[2]\teval-auc:0.834133\ttrain-auc:0.892555\n",
      "[3]\teval-auc:0.832404\ttrain-auc:0.899798\n",
      "[4]\teval-auc:0.831532\ttrain-auc:0.909527\n",
      "[5]\teval-auc:0.833093\ttrain-auc:0.916527\n",
      "[6]\teval-auc:0.835915\ttrain-auc:0.922811\n",
      "[7]\teval-auc:0.835681\ttrain-auc:0.927004\n",
      "[8]\teval-auc:0.835953\ttrain-auc:0.930685\n",
      "[9]\teval-auc:0.835834\ttrain-auc:0.934572\n",
      "[0]\teval-auc:0.814247\ttrain-auc:0.858447\n",
      "[1]\teval-auc:0.829534\ttrain-auc:0.878884\n",
      "[2]\teval-auc:0.834133\ttrain-auc:0.892555\n",
      "[3]\teval-auc:0.832404\ttrain-auc:0.899798\n",
      "[4]\teval-auc:0.831532\ttrain-auc:0.909527\n",
      "[5]\teval-auc:0.833093\ttrain-auc:0.916527\n",
      "[6]\teval-auc:0.835915\ttrain-auc:0.922811\n",
      "[7]\teval-auc:0.835681\ttrain-auc:0.927004\n",
      "[8]\teval-auc:0.835953\ttrain-auc:0.930685\n",
      "[9]\teval-auc:0.835834\ttrain-auc:0.934572\n",
      "[0]\teval-auc:0.814247\ttrain-auc:0.858447\n",
      "[1]\teval-auc:0.829534\ttrain-auc:0.878884\n",
      "[2]\teval-auc:0.834133\ttrain-auc:0.892555\n",
      "[3]\teval-auc:0.832404\ttrain-auc:0.899798\n",
      "[4]\teval-auc:0.831532\ttrain-auc:0.909527\n",
      "[5]\teval-auc:0.833093\ttrain-auc:0.916527\n",
      "[6]\teval-auc:0.835915\ttrain-auc:0.922811\n",
      "[7]\teval-auc:0.835681\ttrain-auc:0.927004\n",
      "[8]\teval-auc:0.835953\ttrain-auc:0.930685\n",
      "[9]\teval-auc:0.835834\ttrain-auc:0.934572\n",
      "[0]\teval-auc:0.814247\ttrain-auc:0.858447\n",
      "[1]\teval-auc:0.829534\ttrain-auc:0.878884\n",
      "[2]\teval-auc:0.834133\ttrain-auc:0.892555\n",
      "[3]\teval-auc:0.832404\ttrain-auc:0.899798\n",
      "[4]\teval-auc:0.831532\ttrain-auc:0.909527\n",
      "[5]\teval-auc:0.833093\ttrain-auc:0.916527\n",
      "[6]\teval-auc:0.835915\ttrain-auc:0.922811\n",
      "[7]\teval-auc:0.835681\ttrain-auc:0.927004\n",
      "[8]\teval-auc:0.835953\ttrain-auc:0.930685\n",
      "[9]\teval-auc:0.835834\ttrain-auc:0.934572\n",
      "[0]\teval-auc:0.814247\ttrain-auc:0.858447\n",
      "[1]\teval-auc:0.829534\ttrain-auc:0.878884\n",
      "[2]\teval-auc:0.834133\ttrain-auc:0.892555\n",
      "[3]\teval-auc:0.832404\ttrain-auc:0.899798\n",
      "[4]\teval-auc:0.831532\ttrain-auc:0.909527\n",
      "[5]\teval-auc:0.833093\ttrain-auc:0.916527\n",
      "[6]\teval-auc:0.835915\ttrain-auc:0.922811\n",
      "[7]\teval-auc:0.835681\ttrain-auc:0.927004\n",
      "[8]\teval-auc:0.835953\ttrain-auc:0.930685\n",
      "[9]\teval-auc:0.835834\ttrain-auc:0.934572\n",
      "[0]\teval-auc:0.814247\ttrain-auc:0.858447\n",
      "[1]\teval-auc:0.829534\ttrain-auc:0.878884\n",
      "[2]\teval-auc:0.834133\ttrain-auc:0.892555\n",
      "[3]\teval-auc:0.832404\ttrain-auc:0.899798\n",
      "[4]\teval-auc:0.831532\ttrain-auc:0.909527\n",
      "[5]\teval-auc:0.833093\ttrain-auc:0.916527\n",
      "[6]\teval-auc:0.835915\ttrain-auc:0.922811\n",
      "[7]\teval-auc:0.835681\ttrain-auc:0.927004\n",
      "[8]\teval-auc:0.835953\ttrain-auc:0.930685\n",
      "[9]\teval-auc:0.835834\ttrain-auc:0.934572\n",
      "[0]\teval-auc:0.814247\ttrain-auc:0.858447\n",
      "[1]\teval-auc:0.829534\ttrain-auc:0.878884\n",
      "[2]\teval-auc:0.834133\ttrain-auc:0.892555\n",
      "[3]\teval-auc:0.832404\ttrain-auc:0.899798\n",
      "[4]\teval-auc:0.831532\ttrain-auc:0.909527\n",
      "[5]\teval-auc:0.833093\ttrain-auc:0.916527\n",
      "[6]\teval-auc:0.835915\ttrain-auc:0.922811\n",
      "[7]\teval-auc:0.835681\ttrain-auc:0.927004\n",
      "[8]\teval-auc:0.835953\ttrain-auc:0.930685\n",
      "[9]\teval-auc:0.835834\ttrain-auc:0.934572\n",
      "[0]\teval-auc:0.814247\ttrain-auc:0.858447\n",
      "[1]\teval-auc:0.829534\ttrain-auc:0.878884\n",
      "[2]\teval-auc:0.834133\ttrain-auc:0.892555\n",
      "[3]\teval-auc:0.832404\ttrain-auc:0.899798\n",
      "[4]\teval-auc:0.831532\ttrain-auc:0.909527\n",
      "[5]\teval-auc:0.833093\ttrain-auc:0.916527\n",
      "[6]\teval-auc:0.835915\ttrain-auc:0.922811\n",
      "[7]\teval-auc:0.835681\ttrain-auc:0.927004\n",
      "[8]\teval-auc:0.835953\ttrain-auc:0.930685\n",
      "[9]\teval-auc:0.835834\ttrain-auc:0.934572\n",
      "[0]\teval-auc:0.814247\ttrain-auc:0.858447\n",
      "[1]\teval-auc:0.829534\ttrain-auc:0.878884\n",
      "[2]\teval-auc:0.834133\ttrain-auc:0.892555\n",
      "[3]\teval-auc:0.832404\ttrain-auc:0.899798\n",
      "[4]\teval-auc:0.831532\ttrain-auc:0.909527\n",
      "[5]\teval-auc:0.833093\ttrain-auc:0.916527\n",
      "[6]\teval-auc:0.835915\ttrain-auc:0.922811\n",
      "[7]\teval-auc:0.835681\ttrain-auc:0.927004\n",
      "[8]\teval-auc:0.835953\ttrain-auc:0.930685\n",
      "[9]\teval-auc:0.835834\ttrain-auc:0.934572\n",
      "[0]\teval-auc:0.814247\ttrain-auc:0.858447\n",
      "[1]\teval-auc:0.829534\ttrain-auc:0.878884\n",
      "[2]\teval-auc:0.834133\ttrain-auc:0.892555\n",
      "[3]\teval-auc:0.832404\ttrain-auc:0.899798\n",
      "[4]\teval-auc:0.831532\ttrain-auc:0.909527\n",
      "[5]\teval-auc:0.833093\ttrain-auc:0.916527\n",
      "[6]\teval-auc:0.835915\ttrain-auc:0.922811\n",
      "[7]\teval-auc:0.835681\ttrain-auc:0.927004\n",
      "[8]\teval-auc:0.835953\ttrain-auc:0.930685\n",
      "[9]\teval-auc:0.835834\ttrain-auc:0.934572\n",
      "[0]\teval-auc:0.814247\ttrain-auc:0.858447\n",
      "[1]\teval-auc:0.829534\ttrain-auc:0.878884\n",
      "[2]\teval-auc:0.834133\ttrain-auc:0.892555\n",
      "[3]\teval-auc:0.832404\ttrain-auc:0.899798\n",
      "[4]\teval-auc:0.831532\ttrain-auc:0.909527\n",
      "[5]\teval-auc:0.833093\ttrain-auc:0.916527\n",
      "[6]\teval-auc:0.835915\ttrain-auc:0.922811\n",
      "[7]\teval-auc:0.835681\ttrain-auc:0.927004\n",
      "[8]\teval-auc:0.835953\ttrain-auc:0.930685\n",
      "[9]\teval-auc:0.835834\ttrain-auc:0.934572\n",
      "[0]\teval-auc:0.814247\ttrain-auc:0.858447\n",
      "[1]\teval-auc:0.829534\ttrain-auc:0.878884\n",
      "[2]\teval-auc:0.834133\ttrain-auc:0.892555\n",
      "[3]\teval-auc:0.832404\ttrain-auc:0.899798\n",
      "[4]\teval-auc:0.831532\ttrain-auc:0.909527\n",
      "[5]\teval-auc:0.833093\ttrain-auc:0.916527\n",
      "[6]\teval-auc:0.835915\ttrain-auc:0.922811\n",
      "[7]\teval-auc:0.835681\ttrain-auc:0.927004\n",
      "[8]\teval-auc:0.835953\ttrain-auc:0.930685\n",
      "[9]\teval-auc:0.835834\ttrain-auc:0.934572\n",
      "[0]\teval-auc:0.814247\ttrain-auc:0.858447\n",
      "[1]\teval-auc:0.829534\ttrain-auc:0.878884\n",
      "[2]\teval-auc:0.834133\ttrain-auc:0.892555\n",
      "[3]\teval-auc:0.832404\ttrain-auc:0.899798\n",
      "[4]\teval-auc:0.831532\ttrain-auc:0.909527\n",
      "[5]\teval-auc:0.833093\ttrain-auc:0.916527\n",
      "[6]\teval-auc:0.835915\ttrain-auc:0.922811\n",
      "[7]\teval-auc:0.835681\ttrain-auc:0.927004\n",
      "[8]\teval-auc:0.835953\ttrain-auc:0.930685\n",
      "[9]\teval-auc:0.835834\ttrain-auc:0.934572\n",
      "[0]\teval-auc:0.814247\ttrain-auc:0.858447\n",
      "[1]\teval-auc:0.829534\ttrain-auc:0.878884\n",
      "[2]\teval-auc:0.834133\ttrain-auc:0.892555\n",
      "[3]\teval-auc:0.832404\ttrain-auc:0.899798\n",
      "[4]\teval-auc:0.831532\ttrain-auc:0.909527\n",
      "[5]\teval-auc:0.833093\ttrain-auc:0.916527\n",
      "[6]\teval-auc:0.835915\ttrain-auc:0.922811\n",
      "[7]\teval-auc:0.835681\ttrain-auc:0.927004\n",
      "[8]\teval-auc:0.835953\ttrain-auc:0.930685\n",
      "[9]\teval-auc:0.835834\ttrain-auc:0.934572\n",
      "[0]\teval-auc:0.814247\ttrain-auc:0.858447\n",
      "[1]\teval-auc:0.829534\ttrain-auc:0.878884\n",
      "[2]\teval-auc:0.834133\ttrain-auc:0.892555\n",
      "[3]\teval-auc:0.832404\ttrain-auc:0.899798\n",
      "[4]\teval-auc:0.831532\ttrain-auc:0.909527\n",
      "[5]\teval-auc:0.833093\ttrain-auc:0.916527\n",
      "[6]\teval-auc:0.835915\ttrain-auc:0.922811\n",
      "[7]\teval-auc:0.835681\ttrain-auc:0.927004\n",
      "[8]\teval-auc:0.835953\ttrain-auc:0.930685\n",
      "[9]\teval-auc:0.835834\ttrain-auc:0.934572\n",
      "[0]\teval-auc:0.814247\ttrain-auc:0.858447\n",
      "[1]\teval-auc:0.829534\ttrain-auc:0.878884\n",
      "[2]\teval-auc:0.834133\ttrain-auc:0.892555\n",
      "[3]\teval-auc:0.832404\ttrain-auc:0.899798\n",
      "[4]\teval-auc:0.831532\ttrain-auc:0.909527\n",
      "[5]\teval-auc:0.833093\ttrain-auc:0.916527\n",
      "[6]\teval-auc:0.835915\ttrain-auc:0.922811\n",
      "[7]\teval-auc:0.835681\ttrain-auc:0.927004\n",
      "[8]\teval-auc:0.835953\ttrain-auc:0.930685\n",
      "[9]\teval-auc:0.835834\ttrain-auc:0.934572\n",
      "[0]\teval-auc:0.814247\ttrain-auc:0.858447\n",
      "[1]\teval-auc:0.829534\ttrain-auc:0.878884\n",
      "[2]\teval-auc:0.834133\ttrain-auc:0.892555\n",
      "[3]\teval-auc:0.832404\ttrain-auc:0.899798\n",
      "[4]\teval-auc:0.831532\ttrain-auc:0.909527\n",
      "[5]\teval-auc:0.833093\ttrain-auc:0.916527\n",
      "[6]\teval-auc:0.835915\ttrain-auc:0.922811\n",
      "[7]\teval-auc:0.835681\ttrain-auc:0.927004\n",
      "[8]\teval-auc:0.835953\ttrain-auc:0.930685\n",
      "[9]\teval-auc:0.835834\ttrain-auc:0.934572\n",
      "[0]\teval-auc:0.814247\ttrain-auc:0.858447\n",
      "[1]\teval-auc:0.829534\ttrain-auc:0.878884\n",
      "[2]\teval-auc:0.834133\ttrain-auc:0.892555\n",
      "[3]\teval-auc:0.832404\ttrain-auc:0.899798\n",
      "[4]\teval-auc:0.831532\ttrain-auc:0.909527\n",
      "[5]\teval-auc:0.833093\ttrain-auc:0.916527\n",
      "[6]\teval-auc:0.835915\ttrain-auc:0.922811\n",
      "[7]\teval-auc:0.835681\ttrain-auc:0.927004\n",
      "[8]\teval-auc:0.835953\ttrain-auc:0.930685\n",
      "[9]\teval-auc:0.835834\ttrain-auc:0.934572\n",
      "[0]\teval-auc:0.814247\ttrain-auc:0.858447\n",
      "[1]\teval-auc:0.829534\ttrain-auc:0.878884\n",
      "[2]\teval-auc:0.834133\ttrain-auc:0.892555\n",
      "[3]\teval-auc:0.832404\ttrain-auc:0.899798\n",
      "[4]\teval-auc:0.831532\ttrain-auc:0.909527\n",
      "[5]\teval-auc:0.833093\ttrain-auc:0.916527\n",
      "[6]\teval-auc:0.835915\ttrain-auc:0.922811\n",
      "[7]\teval-auc:0.835681\ttrain-auc:0.927004\n",
      "[8]\teval-auc:0.835953\ttrain-auc:0.930685\n",
      "[9]\teval-auc:0.835834\ttrain-auc:0.934572\n",
      "[0]\teval-auc:0.814247\ttrain-auc:0.858447\n",
      "[1]\teval-auc:0.829534\ttrain-auc:0.878884\n",
      "[2]\teval-auc:0.834133\ttrain-auc:0.892555\n",
      "[3]\teval-auc:0.832404\ttrain-auc:0.899798\n",
      "[4]\teval-auc:0.831532\ttrain-auc:0.909527\n",
      "[5]\teval-auc:0.833093\ttrain-auc:0.916527\n",
      "[6]\teval-auc:0.835915\ttrain-auc:0.922811\n",
      "[7]\teval-auc:0.835681\ttrain-auc:0.927004\n",
      "[8]\teval-auc:0.835953\ttrain-auc:0.930685\n",
      "[9]\teval-auc:0.835834\ttrain-auc:0.934572\n",
      "[0]\teval-auc:0.814247\ttrain-auc:0.858447\n",
      "[1]\teval-auc:0.829534\ttrain-auc:0.878884\n",
      "[2]\teval-auc:0.834133\ttrain-auc:0.892555\n",
      "[3]\teval-auc:0.832404\ttrain-auc:0.899798\n",
      "[4]\teval-auc:0.831532\ttrain-auc:0.909527\n",
      "[5]\teval-auc:0.833093\ttrain-auc:0.916527\n",
      "[6]\teval-auc:0.835915\ttrain-auc:0.922811\n",
      "[7]\teval-auc:0.835681\ttrain-auc:0.927004\n",
      "[8]\teval-auc:0.835953\ttrain-auc:0.930685\n",
      "[9]\teval-auc:0.835834\ttrain-auc:0.934572\n",
      "[0]\teval-auc:0.814247\ttrain-auc:0.858447\n",
      "[1]\teval-auc:0.829534\ttrain-auc:0.878884\n",
      "[2]\teval-auc:0.834133\ttrain-auc:0.892555\n",
      "[3]\teval-auc:0.832404\ttrain-auc:0.899798\n",
      "[4]\teval-auc:0.831532\ttrain-auc:0.909527\n",
      "[5]\teval-auc:0.833093\ttrain-auc:0.916527\n",
      "[6]\teval-auc:0.835915\ttrain-auc:0.922811\n",
      "[7]\teval-auc:0.835681\ttrain-auc:0.927004\n",
      "[8]\teval-auc:0.835953\ttrain-auc:0.930685\n",
      "[9]\teval-auc:0.835834\ttrain-auc:0.934572\n",
      "[0]\teval-auc:0.814247\ttrain-auc:0.858447\n",
      "[1]\teval-auc:0.829534\ttrain-auc:0.878884\n",
      "[2]\teval-auc:0.834133\ttrain-auc:0.892555\n",
      "[3]\teval-auc:0.832404\ttrain-auc:0.899798\n",
      "[4]\teval-auc:0.831532\ttrain-auc:0.909527\n",
      "[5]\teval-auc:0.833093\ttrain-auc:0.916527\n",
      "[6]\teval-auc:0.835915\ttrain-auc:0.922811\n",
      "[7]\teval-auc:0.835681\ttrain-auc:0.927004\n",
      "[8]\teval-auc:0.835953\ttrain-auc:0.930685\n",
      "[9]\teval-auc:0.835834\ttrain-auc:0.934572\n",
      "[0]\teval-auc:0.814247\ttrain-auc:0.858447\n",
      "[1]\teval-auc:0.829534\ttrain-auc:0.878884\n",
      "[2]\teval-auc:0.834133\ttrain-auc:0.892555\n",
      "[3]\teval-auc:0.832404\ttrain-auc:0.899798\n",
      "[4]\teval-auc:0.831532\ttrain-auc:0.909527\n",
      "[5]\teval-auc:0.833093\ttrain-auc:0.916527\n",
      "[6]\teval-auc:0.835915\ttrain-auc:0.922811\n",
      "[7]\teval-auc:0.835681\ttrain-auc:0.927004\n",
      "[8]\teval-auc:0.835953\ttrain-auc:0.930685\n",
      "[9]\teval-auc:0.835834\ttrain-auc:0.934572\n",
      "[0]\teval-auc:0.814247\ttrain-auc:0.858447\n",
      "[1]\teval-auc:0.829534\ttrain-auc:0.878884\n",
      "[2]\teval-auc:0.834133\ttrain-auc:0.892555\n",
      "[3]\teval-auc:0.832404\ttrain-auc:0.899798\n",
      "[4]\teval-auc:0.831532\ttrain-auc:0.909527\n",
      "[5]\teval-auc:0.833093\ttrain-auc:0.916527\n",
      "[6]\teval-auc:0.835915\ttrain-auc:0.922811\n",
      "[7]\teval-auc:0.835681\ttrain-auc:0.927004\n",
      "[8]\teval-auc:0.835953\ttrain-auc:0.930685\n",
      "[9]\teval-auc:0.835834\ttrain-auc:0.934572\n",
      "[0]\teval-auc:0.814247\ttrain-auc:0.858447\n",
      "[1]\teval-auc:0.829534\ttrain-auc:0.878884\n",
      "[2]\teval-auc:0.834133\ttrain-auc:0.892555\n",
      "[3]\teval-auc:0.832404\ttrain-auc:0.899798\n",
      "[4]\teval-auc:0.831532\ttrain-auc:0.909527\n",
      "[5]\teval-auc:0.833093\ttrain-auc:0.916527\n",
      "[6]\teval-auc:0.835915\ttrain-auc:0.922811\n",
      "[7]\teval-auc:0.835681\ttrain-auc:0.927004\n",
      "[8]\teval-auc:0.835953\ttrain-auc:0.930685\n",
      "[9]\teval-auc:0.835834\ttrain-auc:0.934572\n"
     ]
    }
   ],
   "source": [
    "param = {'bst:max_depth':10, 'bst:eta':0.5, 'silent':1, 'objective':'binary:logistic' }\n",
    "param['nthread'] = 4\n",
    "param['eval_metric'] = 'auc'\n",
    "evallist  = [(dtest_SVD,'eval'), (dtrain_SVD,'train')]\n",
    "num_round = 10\n",
    "fpr_i=[]\n",
    "tpr_i=[]\n",
    "from sklearn.decomposition import TruncatedSVD\n",
    "from sklearn.cross_validation import train_test_split\n",
    "from sklearn.random_projection import sparse_random_matrix\n",
    "variance_list=[]\n",
    "for i in range(43):\n",
    "    svd = TruncatedSVD(n_components=i, n_iter=7, random_state=42)\n",
    "    #svd.fit(tfidf_matrix) \n",
    "    #print(svd.explained_variance_ratio_)\n",
    "    #print(svd.explained_variance_ratio_.sum())\n",
    "    #variance_list.append(svd.explained_variance_ratio_.sum()*100)\n",
    "    SVD_data=selected_svd.fit_transform(tfidf_matrix)\n",
    "    SVD_data=pd.DataFrame(SVD_data)\n",
    "    train_SVD=SVD_data.merge(train_dummies,left_index=True,right_index=True)\n",
    "    \n",
    "\n",
    "    # Generate the training set.  Set random_state to be able to replicate results.\n",
    "    train1_SVD = train_SVD.sample(frac=0.7, random_state=1)\n",
    "    # Select anything not in the training set and put it in the testing set.\n",
    "    test1_SVD = train_SVD.loc[~train_dummies.index.isin(train1.index)]\n",
    "    # Print the shapes of both sets.\n",
    "    label_train_SVD=train1_SVD.pop(\"label\")\n",
    "    label_test_SVD=test1_SVD.pop(\"label\")\n",
    "    dtrain_SVD = xgb.DMatrix( train1_SVD, label=label_train_SVD)\n",
    "    dtest_SVD= xgb.DMatrix(test1_SVD,label=label_test_SVD)\n",
    "   \n",
    "    bstSVD = xgb.train( param, dtrain_SVD, num_round, evallist )\n",
    "    predictionsSVD = bstSVD.predict(dtest_SVD)\n",
    "    #predictionsSVD = [round(value) for value in ypred]\n",
    "    globals()['fpr%s' % i] , globals()['tpr%s' % i], _ = sklearn.metrics.roc_curve(label_test_SVD, predictionsSVD)"
   ]
  },
  {
   "cell_type": "code",
   "execution_count": 201,
   "metadata": {
    "collapsed": false,
    "scrolled": true
   },
   "outputs": [
    {
     "name": "stdout",
     "output_type": "stream",
     "text": [
      "0.0\n",
      "0.138686131387\n",
      "1.0\n"
     ]
    }
   ],
   "source": [
    "for i in range(len(fpr1)):\n",
    "    print fpr1[i]"
   ]
  },
  {
   "cell_type": "code",
   "execution_count": 203,
   "metadata": {
    "collapsed": false,
    "scrolled": true
   },
   "outputs": [
    {
     "data": {
      "image/png": "[encoded data removed]",
      "text/plain": [
       "<matplotlib.figure.Figure at 0x1205b35d0>"
      ]
     },
     "metadata": {},
     "output_type": "display_data"
    }
   ],
   "source": [
    "plt.figure(1)\n",
    "plt.plot([0, 1], [0, 1], 'k--')\n",
    "for i in range(43):\n",
    "    plt.plot(globals()['fpr%s' % i] , globals()['tpr%s' % i],label=i)\n",
    "#plt.plot(fpr_i.get(\"2\"),tpr_grd(\"2\"),label=i)\n",
    "plt.xlabel('False positive rate')\n",
    "plt.ylabel('True positive rate')\n",
    "plt.title('ROC curve')\n",
    "plt.legend(loc='best')\n",
    "plt.show()"
   ]
  },
  {
   "cell_type": "code",
   "execution_count": null,
   "metadata": {
    "collapsed": true
   },
   "outputs": [],
   "source": []
  }
 ],
 "metadata": {
  "kernelspec": {
   "display_name": "Python 2",
   "language": "python",
   "name": "python2"
  },
  "language_info": {
   "codemirror_mode": {
    "name": "ipython",
    "version": 2
   },
   "file_extension": ".py",
   "mimetype": "text/x-python",
   "name": "python",
   "nbconvert_exporter": "python",
   "pygments_lexer": "ipython2",
   "version": "2.7.12"
  }
 },
 "nbformat": 4,
 "nbformat_minor": 0
}
